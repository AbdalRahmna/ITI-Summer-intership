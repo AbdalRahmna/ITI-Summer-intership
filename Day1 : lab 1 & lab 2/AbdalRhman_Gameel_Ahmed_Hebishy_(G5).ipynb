{
  "cells": [
    {
      "cell_type": "markdown",
      "metadata": {
        "id": "QCVApvP4tCnD"
      },
      "source": [
        "# Intro to Python Day 02 Lab Plain"
      ]
    },
    {
      "cell_type": "markdown",
      "metadata": {
        "id": "FHj-kktZtCnH"
      },
      "source": [
        "Compiled by Ali Heikal"
      ]
    },
    {
      "cell_type": "markdown",
      "metadata": {
        "id": "N_8lyqPitCnH"
      },
      "source": [
        "## Problem 1"
      ]
    },
    {
      "cell_type": "markdown",
      "metadata": {
        "id": "cQJ2ByuOtCnI"
      },
      "source": [
        "Write a program that implements a function of addition with two arguments that sums those arguments and returns their sum."
      ]
    },
    {
      "cell_type": "code",
      "source": [
        "def sum(a,b):\n",
        "  return a+b\n",
        "\n",
        "print(sum(5,5))\n",
        "print(sum(0,0))\n"
      ],
      "metadata": {
        "id": "aqWEzvUnFlhl",
        "outputId": "e06c607d-48ca-4ca0-86e2-3579c9f9ca79",
        "colab": {
          "base_uri": "https://localhost:8080/"
        }
      },
      "execution_count": 1,
      "outputs": [
        {
          "output_type": "stream",
          "name": "stdout",
          "text": [
            "10\n",
            "0\n"
          ]
        }
      ]
    },
    {
      "cell_type": "markdown",
      "metadata": {
        "id": "XIq4EkHEtCnJ"
      },
      "source": [
        "## Problem 2"
      ]
    },
    {
      "cell_type": "markdown",
      "metadata": {
        "id": "gDOg2qcItCnJ"
      },
      "source": [
        "Write a program that sums all items in a list.\n"
      ]
    },
    {
      "cell_type": "code",
      "source": [
        "def sum_list_items(lst):\n",
        "    total = 0\n",
        "    if len(lst)!=0 :\n",
        "        for item in lst:\n",
        "          total += item\n",
        "        return total\n",
        "    else:\n",
        "        return 0\n",
        "\n",
        "my_list = [5,454,45,44,658,2645,54,6,6]\n",
        "total_sum = sum_list_items(my_list)\n",
        "print(f\"The sum of all items in the list is: {total_sum}\")"
      ],
      "metadata": {
        "id": "aMbAD2CBFm9i",
        "outputId": "06c89fb5-07ad-4801-c413-bae31b529e7a",
        "colab": {
          "base_uri": "https://localhost:8080/"
        }
      },
      "execution_count": 2,
      "outputs": [
        {
          "output_type": "stream",
          "name": "stdout",
          "text": [
            "The sum of all items in the list is: 3917\n"
          ]
        }
      ]
    },
    {
      "cell_type": "markdown",
      "metadata": {
        "id": "H6CBOAAYtCnJ"
      },
      "source": [
        "## Problem 3"
      ]
    },
    {
      "cell_type": "markdown",
      "metadata": {
        "id": "uHYI-NsftCnM"
      },
      "source": [
        "Write a program that accepts a string and calculate the number of  letters in the inputted string."
      ]
    },
    {
      "cell_type": "code",
      "source": [
        "def num_letters(input_string):\n",
        "\n",
        "    count = 0\n",
        "    for word in input_string:\n",
        "\n",
        "        if word.isalpha():\n",
        "            count += 1\n",
        "    return count\n",
        "\n",
        "input_string = input(\"Please enter a string: \")\n",
        "num_letters = num_letters(input_string)\n",
        "print(f\"The number of letters in the inputted string is: {num_letters}\")"
      ],
      "metadata": {
        "id": "w4nuvPv2F2c9",
        "outputId": "0a039efb-07b6-46fa-f50a-091d84e84a72",
        "colab": {
          "base_uri": "https://localhost:8080/"
        }
      },
      "execution_count": 4,
      "outputs": [
        {
          "output_type": "stream",
          "name": "stdout",
          "text": [
            "Please enter a string: AbdalRhman\n",
            "The number of letters in the inputted string is: 10\n"
          ]
        }
      ]
    },
    {
      "cell_type": "markdown",
      "metadata": {
        "id": "UZR4d6jStCnM"
      },
      "source": [
        "## Problem 4\n",
        "\n"
      ]
    },
    {
      "cell_type": "markdown",
      "metadata": {
        "id": "xiD8_q0XtCnM"
      },
      "source": [
        "You are given the following list.\n"
      ]
    },
    {
      "cell_type": "code",
      "execution_count": 5,
      "metadata": {
        "id": "rGINYFPZtCnN"
      },
      "outputs": [],
      "source": [
        "# apes = [\"Homo sapiens\", \"Pan troglodytes\", \"Gorilla gorilla\"]"
      ]
    },
    {
      "cell_type": "markdown",
      "source": [],
      "metadata": {
        "id": "bDtlUPS-NGLt"
      }
    },
    {
      "cell_type": "markdown",
      "metadata": {
        "id": "tTGh-rOctCnO"
      },
      "source": [
        "Write a program to print a similar out for each element in the list like the expected out below."
      ]
    },
    {
      "cell_type": "markdown",
      "metadata": {
        "id": "8OGJ-MAdtCnO"
      },
      "source": [
        "Homo sapiens is an ape. Its name has 12 letters."
      ]
    },
    {
      "cell_type": "code",
      "source": [
        "apes = [\"Homo sapiens\", \"Pan troglodytes\", \"Gorilla gorilla\"]\n",
        "\n",
        "def sent (apes):\n",
        "     print(f\"{apes[0]} is an ape.its name has {len(apes[0])} letters \")\n",
        "sent(apes)"
      ],
      "metadata": {
        "id": "di1WSofAF4BJ",
        "outputId": "5a55fb55-efc8-4f2d-f92b-a6a65080a1d1",
        "colab": {
          "base_uri": "https://localhost:8080/"
        }
      },
      "execution_count": 6,
      "outputs": [
        {
          "output_type": "stream",
          "name": "stdout",
          "text": [
            "Homo sapiens is an ape.its name has 12 letters \n"
          ]
        }
      ]
    },
    {
      "cell_type": "markdown",
      "source": [
        "#Problem 5"
      ],
      "metadata": {
        "id": "hsQQ2mvqvfKV"
      }
    },
    {
      "cell_type": "markdown",
      "metadata": {
        "id": "irj3aPiCvKoh"
      },
      "source": [
        "Define a class called Songs, it will show the lyrics of a song. Its __init__() method should have two arguments: self and lyrics. lyrics is a list. Inside your class create a method called sing_me_a_song that prints each element of lyrics on its own line."
      ]
    },
    {
      "cell_type": "code",
      "source": [
        "class Songs:\n",
        "\n",
        "    def __init__(self, lyrics):\n",
        "        self.lyrics = lyrics\n",
        "\n",
        "    def sing_me_a_song(self):\n",
        "        for line in self.lyrics:\n",
        "            print(line)\n",
        "\n",
        "lyrics1=[\"Happy birthday to you\",\n",
        "                  \"Happy birthday to you\",\n",
        "                  \"Happy birthday to you ,sir Ahmed\"]\n",
        "song = Songs(lyrics1)\n",
        "\n",
        "song.sing_me_a_song()"
      ],
      "metadata": {
        "id": "m58v0CiqF57o",
        "outputId": "94edede4-b91e-40f4-d7ab-e79f81f2b077",
        "colab": {
          "base_uri": "https://localhost:8080/"
        }
      },
      "execution_count": 7,
      "outputs": [
        {
          "output_type": "stream",
          "name": "stdout",
          "text": [
            "Happy birthday to you\n",
            "Happy birthday to you\n",
            "Happy birthday to you ,sir Ahmed\n"
          ]
        }
      ]
    },
    {
      "cell_type": "markdown",
      "source": [
        "#Problem 6\n"
      ],
      "metadata": {
        "id": "EdV5jjKyNFV2"
      }
    },
    {
      "cell_type": "markdown",
      "metadata": {
        "id": "ld0f5E6NM9Iq"
      },
      "source": [
        "Write a program that implements child class Bus that inherits all of the variables and methods of the class Vehicle then create an object from the child class and print its values."
      ]
    },
    {
      "cell_type": "code",
      "source": [
        "# main class :\n",
        "class Vehicle:\n",
        "    def __init__(self, make, model, year):\n",
        "        self.make = make\n",
        "        self.model = model\n",
        "        self.year = year\n",
        "\n",
        "    def display_info(self):\n",
        "        print(f\"Make: {self.make}\")\n",
        "        print(f\"Model: {self.model}\")\n",
        "        print(f\"Year: {self.year}\")\n",
        "\n",
        "# Child class :\n",
        "\n",
        "class Bus(Vehicle):\n",
        "    def __init__(self, make, model, year, capacity):\n",
        "        super().__init__(make, model, year)\n",
        "        self.capacity = capacity\n",
        "\n",
        "    def display_info(self):\n",
        "        super().display_info()\n",
        "        print(f\"Capacity: {self.capacity}\")\n",
        "\n",
        "bus = Bus(\"Volvo\", \"B12B\", 2020, 50)\n",
        "bus.display_info()"
      ],
      "metadata": {
        "id": "KxspDr51F6tw",
        "outputId": "a3d11d43-1464-4e64-d6c2-e406ebc03b00",
        "colab": {
          "base_uri": "https://localhost:8080/"
        }
      },
      "execution_count": 9,
      "outputs": [
        {
          "output_type": "stream",
          "name": "stdout",
          "text": [
            "Make: Volvo\n",
            "Model: B12B\n",
            "Year: 2020\n",
            "Capacity: 50\n"
          ]
        }
      ]
    },
    {
      "cell_type": "markdown",
      "source": [
        "#Problem 7\n"
      ],
      "metadata": {
        "id": "4gTdasjrNZiw"
      }
    },
    {
      "cell_type": "markdown",
      "source": [
        "Create text File and Apply all Modes on it (read& Write & Append )"
      ],
      "metadata": {
        "id": "g5DVSQqTNcoD"
      }
    },
    {
      "cell_type": "code",
      "source": [
        "#make & write :\n",
        "with open('example.txt', 'w') as file:\n",
        "    file.write('Hello, this is the write mode.\\n')\n",
        "\n",
        "# addend\n",
        "with open('example.txt', 'a') as file:\n",
        "    file.write('This is the append mode.\\n')\n",
        "\n",
        "# read:\n",
        "with open('example.txt', 'r') as file:\n",
        "    Reader = file.read()\n",
        "    print(Reader)"
      ],
      "metadata": {
        "id": "1LPHaHbJF7gh",
        "outputId": "aedfd935-fbfa-4ace-8346-9ce56af9b78d",
        "colab": {
          "base_uri": "https://localhost:8080/"
        }
      },
      "execution_count": 10,
      "outputs": [
        {
          "output_type": "stream",
          "name": "stdout",
          "text": [
            "Hello, this is the write mode.\n",
            "This is the append mode.\n",
            "\n"
          ]
        }
      ]
    }
  ],
  "metadata": {
    "kernelspec": {
      "display_name": "Python 3",
      "language": "python",
      "name": "python3"
    },
    "language_info": {
      "codemirror_mode": {
        "name": "ipython",
        "version": 3
      },
      "file_extension": ".py",
      "mimetype": "text/x-python",
      "name": "python",
      "nbconvert_exporter": "python",
      "pygments_lexer": "ipython3",
      "version": "3.8.5"
    },
    "colab": {
      "provenance": []
    }
  },
  "nbformat": 4,
  "nbformat_minor": 0
}