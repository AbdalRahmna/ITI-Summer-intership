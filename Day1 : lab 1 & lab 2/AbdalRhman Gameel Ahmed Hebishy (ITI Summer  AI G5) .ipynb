{
 "cells": [
  {
   "cell_type": "markdown",
   "metadata": {
    "id": "QvNtx-pyjJ_B"
   },
   "source": [
    "# Intro to Python Day 01 Lab Plain"
   ]
  },
  {
   "cell_type": "markdown",
   "metadata": {
    "id": "4dYLRjXEjJ_L"
   },
   "source": [
    "Compiled by Ali Heikal"
   ]
  },
  {
   "cell_type": "markdown",
   "metadata": {
    "id": "Ia9ENuIvjJ_N"
   },
   "source": [
    "## Problem 1"
   ]
  },
  {
   "cell_type": "markdown",
   "metadata": {
    "id": "_5-E3eP1jJ_O"
   },
   "source": [
    "Write a program to print \"Hello, World!\""
   ]
  },
  {
   "cell_type": "code",
   "execution_count": 1,
   "metadata": {
    "colab": {
     "base_uri": "https://localhost:8080/"
    },
    "id": "WU2JkkZZjJ_P",
    "outputId": "a264dd57-dd33-475e-a913-530ecc8a5f03"
   },
   "outputs": [
    {
     "name": "stdout",
     "output_type": "stream",
     "text": [
      "Hello, World!\n"
     ]
    }
   ],
   "source": [
    "print(\"Hello, World!\")"
   ]
  },
  {
   "cell_type": "markdown",
   "metadata": {
    "id": "_An-kM7djJ_e"
   },
   "source": [
    "## Problem 2"
   ]
  },
  {
   "cell_type": "markdown",
   "metadata": {
    "id": "o-GZN3OUjJ_f"
   },
   "source": [
    "Write a program to print date and time and a program to print time only."
   ]
  },
  {
   "cell_type": "code",
   "execution_count": 2,
   "metadata": {
    "colab": {
     "base_uri": "https://localhost:8080/"
    },
    "id": "uaN1Jzjzx0Pg",
    "outputId": "32c26edb-c54e-4151-862b-09b7066bacb7"
   },
   "outputs": [
    {
     "name": "stdout",
     "output_type": "stream",
     "text": [
      "Current Date and Time:\n",
      "2024-08-21 16:10:39\n"
     ]
    }
   ],
   "source": [
    "from datetime import datetime\n",
    "\n",
    "def print_date_and_time():\n",
    "    now = datetime.now()\n",
    "    print(\"Current Date and Time:\")\n",
    "    print(now.strftime(\"%Y-%m-%d %H:%M:%S\"))\n",
    "\n",
    "print_date_and_time()"
   ]
  },
  {
   "cell_type": "code",
   "execution_count": 3,
   "metadata": {
    "colab": {
     "base_uri": "https://localhost:8080/"
    },
    "id": "JzbXIaGyyk8h",
    "outputId": "00dbe81e-9ca1-4605-9e2c-9febf55963ad"
   },
   "outputs": [
    {
     "name": "stdout",
     "output_type": "stream",
     "text": [
      "Current Time: 16:10:39\n"
     ]
    }
   ],
   "source": [
    "def print_current_time():\n",
    "\n",
    "    now = datetime.now()\n",
    "    formatted_time = now.strftime(\"%H:%M:%S\")\n",
    "    print(\"Current Time:\",formatted_time)\n",
    "\n",
    "\n",
    "print_current_time()"
   ]
  },
  {
   "cell_type": "markdown",
   "metadata": {
    "id": "xGBspR_wjJ_h"
   },
   "source": [
    "## Problem 3\n"
   ]
  },
  {
   "cell_type": "markdown",
   "metadata": {
    "id": "RUE6C17ejJ_i"
   },
   "source": [
    "Write a program that prints Python version and info of the environment you are using."
   ]
  },
  {
   "cell_type": "code",
   "execution_count": 4,
   "metadata": {
    "colab": {
     "base_uri": "https://localhost:8080/"
    },
    "id": "XkNeDjOPtXqt",
    "outputId": "b6f7e51a-4d70-4e2c-b226-b1eccb53f2ae"
   },
   "outputs": [
    {
     "name": "stdout",
     "output_type": "stream",
     "text": [
      "Python Version:\n",
      "3.8.10 (default, Jul 29 2024, 17:02:10) \n",
      "[GCC 9.4.0]\n"
     ]
    }
   ],
   "source": [
    "import sys\n",
    "print(\"Python Version:\")\n",
    "print(sys.version)"
   ]
  },
  {
   "cell_type": "markdown",
   "metadata": {
    "id": "JPB3LzFXjJ_j"
   },
   "source": [
    "## Problem 4"
   ]
  },
  {
   "cell_type": "markdown",
   "metadata": {
    "id": "QYNO9Bh5jJ_k"
   },
   "source": [
    "Write a program that accepts input of first name and last name and then print them in reverse order."
   ]
  },
  {
   "cell_type": "code",
   "execution_count": 1,
   "metadata": {
    "colab": {
     "base_uri": "https://localhost:8080/"
    },
    "id": "tTr57C83tdcW",
    "outputId": "3d75c0e2-90fd-4f91-898b-656dcc659b67"
   },
   "outputs": [
    {
     "name": "stdin",
     "output_type": "stream",
     "text": [
      "Enter First Name ggg\n",
      "Enter Last Name mm\n"
     ]
    },
    {
     "name": "stdout",
     "output_type": "stream",
     "text": [
      "mm ggg\n"
     ]
    }
   ],
   "source": [
    "first_name=input(\"Enter First Name\")\n",
    "last_name=input(\"Enter Last Name\")\n",
    "print(last_name,first_name)\n"
   ]
  },
  {
   "cell_type": "markdown",
   "metadata": {
    "id": "-hExmMiwjJ_l"
   },
   "source": [
    "## Problem 5"
   ]
  },
  {
   "cell_type": "markdown",
   "metadata": {
    "id": "tLvJHpoTjJ_l"
   },
   "source": [
    "Write a program that accepts one word from the user and print it in reverse order."
   ]
  },
  {
   "cell_type": "code",
   "execution_count": 2,
   "metadata": {
    "colab": {
     "base_uri": "https://localhost:8080/"
    },
    "id": "tGmXRPyTts4o",
    "outputId": "5ad07bdf-ae48-40f8-cbea-5da8662a83ad"
   },
   "outputs": [
    {
     "name": "stdin",
     "output_type": "stream",
     "text": [
      "Enter a word:  hnj\n"
     ]
    },
    {
     "name": "stdout",
     "output_type": "stream",
     "text": [
      "The word in reverse order is: jnh\n"
     ]
    }
   ],
   "source": [
    "def reverse_word():\n",
    "\n",
    "    word = input(\"Enter a word: \")\n",
    "    reversed_word = word[::-1]\n",
    "    print(\"The word in reverse order is:\", reversed_word)\n",
    "\n",
    "reverse_word()\n"
   ]
  },
  {
   "cell_type": "markdown",
   "metadata": {
    "id": "7oNO-AKsjJ_m"
   },
   "source": [
    "## Problem 6"
   ]
  },
  {
   "cell_type": "markdown",
   "metadata": {
    "id": "hMGtPOwcjJ_m"
   },
   "source": [
    "Write a program that parses a value once to float and once to integer."
   ]
  },
  {
   "cell_type": "code",
   "execution_count": 3,
   "metadata": {
    "colab": {
     "base_uri": "https://localhost:8080/"
    },
    "id": "3yjqJNwkuNes",
    "outputId": "a36a9a53-4f52-4e05-96c8-138561edea28"
   },
   "outputs": [
    {
     "name": "stdin",
     "output_type": "stream",
     "text": [
      "Enter a value 5\n"
     ]
    },
    {
     "name": "stdout",
     "output_type": "stream",
     "text": [
      "float 5.0\n",
      "int 5\n"
     ]
    }
   ],
   "source": [
    "x=input(\"Enter a value\")\n",
    "print(\"float\",float(x))\n",
    "print(\"int\",int(float(x)))"
   ]
  },
  {
   "cell_type": "markdown",
   "metadata": {
    "id": "aqWTEwkKjJ_m"
   },
   "source": [
    "## Problem 7"
   ]
  },
  {
   "cell_type": "markdown",
   "metadata": {
    "id": "EAK18vNejJ_n"
   },
   "source": [
    "Write a program that accepts an integer and print whether it is even or odd."
   ]
  },
  {
   "cell_type": "code",
   "execution_count": 4,
   "metadata": {
    "colab": {
     "base_uri": "https://localhost:8080/"
    },
    "id": "-HatlRgfuV9Z",
    "outputId": "9253148a-e82d-4af3-a0a6-781bb8d556fe"
   },
   "outputs": [
    {
     "name": "stdin",
     "output_type": "stream",
     "text": [
      "Enter a number 7\n"
     ]
    },
    {
     "name": "stdout",
     "output_type": "stream",
     "text": [
      "Odd\n"
     ]
    }
   ],
   "source": [
    "num=int(input(\"Enter a number\"))\n",
    "if num%2==0:\n",
    "    print(\"Even\")\n",
    "else:\n",
    "    print(\"Odd\")"
   ]
  },
  {
   "cell_type": "markdown",
   "metadata": {
    "id": "joZd9Y9UjJ_n"
   },
   "source": [
    "## Problem 8"
   ]
  },
  {
   "cell_type": "markdown",
   "metadata": {
    "id": "gs4rqhrMjJ_o"
   },
   "source": [
    "Write a program that accepts an integer (n) and computes the value of n+nn+nnn."
   ]
  },
  {
   "cell_type": "code",
   "execution_count": 65,
   "metadata": {
    "colab": {
     "base_uri": "https://localhost:8080/"
    },
    "id": "j1Om6060ucFr",
    "outputId": "366ec15a-e8c2-4e15-f397-a9e29143205f"
   },
   "outputs": [
    {
     "name": "stdout",
     "output_type": "stream",
     "text": [
      "Enter an integer (n): 5\n",
      "The value of n + nn + nnn is: 155\n"
     ]
    }
   ],
   "source": [
    "def compute_n_plus_nn_plus_nnn():\n",
    "\n",
    "    n = int(input(\"Enter an integer (n): \"))\n",
    "    n_int = int(n)\n",
    "    nn = int(n * n)\n",
    "    nnn = int(n * n * n)\n",
    "    result = n_int + nn + nnn\n",
    "    print(f\"The value of n + nn + nnn is: {result}\")\n",
    "compute_n_plus_nn_plus_nnn()"
   ]
  },
  {
   "cell_type": "markdown",
   "metadata": {
    "id": "WOXVFG7TjJ_o"
   },
   "source": [
    "## Problem 9"
   ]
  },
  {
   "cell_type": "markdown",
   "metadata": {
    "id": "UDPEEJl6jJ_p"
   },
   "source": [
    "Write a program that prints \"Hello, World!\" 3 times without using loops and without writing it more than once."
   ]
  },
  {
   "cell_type": "code",
   "execution_count": 5,
   "metadata": {
    "colab": {
     "base_uri": "https://localhost:8080/"
    },
    "id": "Ur-SOsVWvKOL",
    "outputId": "5c69995d-fca6-4b2c-cedf-58ff1c4bf4dc"
   },
   "outputs": [
    {
     "name": "stdout",
     "output_type": "stream",
     "text": [
      "Hello, World!\n",
      "Hello, World!\n",
      "Hello, World!\n",
      "\n"
     ]
    }
   ],
   "source": [
    "message = \"Hello, World!\"\n",
    "print((message + \"\\n\") * 3)"
   ]
  },
  {
   "cell_type": "markdown",
   "metadata": {
    "id": "xjr7cm6ZjJ_p"
   },
   "source": [
    "## Problem 10"
   ]
  },
  {
   "cell_type": "markdown",
   "metadata": {
    "id": "kUmggohfjJ_p"
   },
   "source": [
    "Write a program to get the length of a string, check if a word exists in a string, check if a word does not exist in a string."
   ]
  },
  {
   "cell_type": "code",
   "execution_count": 6,
   "metadata": {
    "colab": {
     "base_uri": "https://localhost:8080/"
    },
    "id": "9uvLyHSgvOX4",
    "outputId": "82756e37-1df3-49cc-c2e6-6c5b1ae0583e"
   },
   "outputs": [
    {
     "name": "stdout",
     "output_type": "stream",
     "text": [
      "string 5\n"
     ]
    }
   ],
   "source": [
    "x=\"hello\"\n",
    "\n",
    "if type(x)==str:\n",
    "   print(\"string\",len(x))\n",
    "else:\n",
    "    print(x,\"Not a string\")"
   ]
  },
  {
   "cell_type": "markdown",
   "metadata": {
    "id": "X9wIyf-njJ_r"
   },
   "source": [
    "Write a program to print the first 2 and the last 2 characters from a given a string. If the string length is less than 2, return instead an empty string."
   ]
  },
  {
   "cell_type": "markdown",
   "metadata": {
    "id": "VTR7zVo6jJ_q"
   },
   "source": [
    "## Problem 11"
   ]
  },
  {
   "cell_type": "code",
   "execution_count": 7,
   "metadata": {
    "colab": {
     "base_uri": "https://localhost:8080/"
    },
    "id": "t2oRQ_xovPOg",
    "outputId": "1700ff49-6d0f-4b3a-82c4-4c4d9c90adef"
   },
   "outputs": [
    {
     "name": "stdout",
     "output_type": "stream",
     "text": [
      "If\n",
      "ty\n"
     ]
    }
   ],
   "source": [
    "string=\"If the string length is less than 2, return instead an empty\"\n",
    "if len(string)<2:\n",
    "    print(\"\")\n",
    "else:\n",
    "    print(string[:2])\n",
    "    print(string[-2:])\n"
   ]
  },
  {
   "cell_type": "markdown",
   "metadata": {
    "id": "J0J7OclNjJ_r"
   },
   "source": [
    "## Problem 12"
   ]
  },
  {
   "cell_type": "markdown",
   "metadata": {
    "id": "FcnU9wQ7jJ_r"
   },
   "source": [
    "Write a program that concatenates two lists index-wise."
   ]
  },
  {
   "cell_type": "code",
   "execution_count": 8,
   "metadata": {
    "colab": {
     "base_uri": "https://localhost:8080/"
    },
    "id": "sKfTRXAHvPyu",
    "outputId": "acd7de51-08cc-4b28-ac1f-a89a3f850822"
   },
   "outputs": [
    {
     "name": "stdout",
     "output_type": "stream",
     "text": [
      "[1, 'khaled', 3, 'Abdo', 'mosa', 'ona', 10]\n"
     ]
    }
   ],
   "source": [
    "l1=[1,\"khaled\",3,\"Abdo\"]\n",
    "l2=[\"mosa\",\"ona\",10]\n",
    "print(l1+l2)"
   ]
  },
  {
   "cell_type": "markdown",
   "metadata": {
    "id": "mVWSFGlJjJ_s"
   },
   "source": [
    "## Problem 13"
   ]
  },
  {
   "cell_type": "markdown",
   "metadata": {
    "id": "udbDVBcojJ_s"
   },
   "source": [
    "Write a program to square every item of a list."
   ]
  },
  {
   "cell_type": "code",
   "execution_count": 9,
   "metadata": {
    "colab": {
     "base_uri": "https://localhost:8080/"
    },
    "id": "llCtuNatvQVi",
    "outputId": "5fbf0e27-2f3d-4ef1-d872-dcd4f8e2d016"
   },
   "outputs": [
    {
     "name": "stdout",
     "output_type": "stream",
     "text": [
      "25\n",
      "100\n",
      "225\n"
     ]
    }
   ],
   "source": [
    "\n",
    "list=[5,10,15]\n",
    "for i in list:\n",
    "    print(i**2)"
   ]
  },
  {
   "cell_type": "markdown",
   "metadata": {
    "id": "JAH54hdxjJ_t"
   },
   "source": [
    "## Problem 14"
   ]
  },
  {
   "cell_type": "markdown",
   "metadata": {
    "id": "4OPvOd0OjJ_t"
   },
   "source": [
    "Write a program to remove empty strings from a list of strings and then print the list."
   ]
  },
  {
   "cell_type": "code",
   "execution_count": 10,
   "metadata": {
    "colab": {
     "base_uri": "https://localhost:8080/"
    },
    "id": "AFGTl_jvvQ1C",
    "outputId": "7ac8d35e-4fd5-442a-e22f-7ff56083583c"
   },
   "outputs": [
    {
     "name": "stdout",
     "output_type": "stream",
     "text": [
      "['Hello', 'World', 'Python']\n"
     ]
    }
   ],
   "source": [
    "def remove_empty_strings(string_list):\n",
    "    non_empty_list = [s for s in string_list if s.strip()]\n",
    "    return non_empty_list\n",
    "\n",
    "string_list = [\"Hello\", \"\", \"World\", \"\", \"Python\", \"\"]\n",
    "result = remove_empty_strings(string_list)\n",
    "print(result)"
   ]
  },
  {
   "cell_type": "markdown",
   "metadata": {
    "id": "I6baJ3LZjJ_u"
   },
   "source": [
    "## Problem 15"
   ]
  },
  {
   "cell_type": "markdown",
   "metadata": {
    "id": "bCcSlC4_jJ_u"
   },
   "source": [
    "Write a program that reverses a tuple."
   ]
  },
  {
   "cell_type": "code",
   "execution_count": 11,
   "metadata": {
    "colab": {
     "base_uri": "https://localhost:8080/"
    },
    "id": "ohGJXiDNvRly",
    "outputId": "baf711bd-4dbb-4caf-9571-39a13aea9491"
   },
   "outputs": [
    {
     "name": "stdout",
     "output_type": "stream",
     "text": [
      "(5, 4, 3, 2, 1)\n"
     ]
    }
   ],
   "source": [
    "def reverse_tuple(tup):\n",
    "    reversed_tup = tup[::-1]\n",
    "    return reversed_tup\n",
    "\n",
    "my_tuple = (1, 2, 3, 4, 5)\n",
    "reversed_tuple = reverse_tuple(my_tuple)\n",
    "print(reversed_tuple)"
   ]
  },
  {
   "cell_type": "markdown",
   "metadata": {
    "id": "T0wQN-60jJ_u"
   },
   "source": [
    "## Problem 16"
   ]
  },
  {
   "cell_type": "markdown",
   "metadata": {
    "id": "UnxBlqMwjJ_v"
   },
   "source": [
    "Write a program that converts a tuple to individual variables."
   ]
  },
  {
   "cell_type": "code",
   "execution_count": 12,
   "metadata": {
    "colab": {
     "base_uri": "https://localhost:8080/"
    },
    "id": "v6M7HNhIvSMP",
    "outputId": "df5d69b8-5787-449e-f3c0-cb6f40bc7ed5"
   },
   "outputs": [
    {
     "name": "stdout",
     "output_type": "stream",
     "text": [
      "Individual Variables:\n",
      "a: 10\n",
      "b: 20\n",
      "c: 30\n"
     ]
    }
   ],
   "source": [
    "def unpack_tuple(tup):\n",
    "\n",
    "    a, b, c = tup\n",
    "\n",
    "\n",
    "    print(\"Individual Variables:\")\n",
    "    print(f\"a: {a}\")\n",
    "    print(f\"b: {b}\")\n",
    "    print(f\"c: {c}\")\n",
    "\n",
    "my_tuple = (10, 20, 30)\n",
    "unpack_tuple(my_tuple)"
   ]
  },
  {
   "cell_type": "markdown",
   "metadata": {
    "id": "ATvJ8zcxjJ_v"
   },
   "source": [
    "## Problem 17"
   ]
  },
  {
   "cell_type": "markdown",
   "metadata": {
    "id": "GL4g5j4njJ_v"
   },
   "source": [
    "Write a program to count of occurrences of an item."
   ]
  },
  {
   "cell_type": "code",
   "execution_count": 13,
   "metadata": {
    "colab": {
     "base_uri": "https://localhost:8080/"
    },
    "id": "0aCKzkEDvSrN",
    "outputId": "99266a85-53b2-4935-dd74-f2711a744dc4"
   },
   "outputs": [
    {
     "name": "stdout",
     "output_type": "stream",
     "text": [
      "The item 2 occurs 4 times in the list.\n"
     ]
    }
   ],
   "source": [
    "def count_occurrences(lst, item):\n",
    "    count = 0\n",
    "    for element in lst:\n",
    "        if element == item:\n",
    "            count += 1\n",
    "\n",
    "    return count\n",
    "\n",
    "my_list = [1, 2, 3, 4, 2, 2, 5, 2]\n",
    "item_to_count = 2\n",
    "occurrences = count_occurrences(my_list, item_to_count)\n",
    "\n",
    "print(f\"The item {item_to_count} occurs {occurrences} times in the list.\")\n"
   ]
  },
  {
   "cell_type": "markdown",
   "metadata": {
    "id": "2KrvMPdTjJ_v"
   },
   "source": [
    "## Problem 18"
   ]
  },
  {
   "cell_type": "markdown",
   "metadata": {
    "id": "21OOYVBxjJ_w"
   },
   "source": [
    "Write a program that detects the similar items between two sets and print them."
   ]
  },
  {
   "cell_type": "code",
   "execution_count": 14,
   "metadata": {
    "colab": {
     "base_uri": "https://localhost:8080/"
    },
    "id": "kc-6KdnEvTMN",
    "outputId": "44735f90-9859-4466-9f12-9fc6f1e83ea1"
   },
   "outputs": [
    {
     "data": {
      "text/plain": [
       "{4, 5}"
      ]
     },
     "execution_count": 14,
     "metadata": {},
     "output_type": "execute_result"
    }
   ],
   "source": [
    "def detect_similar_items(set1, set2):\n",
    "\n",
    "    similar_items = set1.intersection(set2)\n",
    "\n",
    "    return similar_items\n",
    "    similar_items = detect_similar_items(set1, set2)\n",
    "    print(\"Similar Items:\", similar_items)\n",
    "\n",
    "set1 = {1, 2, 3, 4, 5}\n",
    "set2 = {4, 5, 6, 7, 8}\n",
    "detect_similar_items(set1, set2)\n"
   ]
  },
  {
   "cell_type": "markdown",
   "metadata": {
    "id": "0Mrq8JTWjJ_5"
   },
   "source": [
    "## Problem 19"
   ]
  },
  {
   "cell_type": "markdown",
   "metadata": {
    "id": "L4KeHMh7jJ_5"
   },
   "source": [
    "Write a program that combines 2 sets in a new one while removing duplicates."
   ]
  },
  {
   "cell_type": "code",
   "execution_count": 15,
   "metadata": {
    "colab": {
     "base_uri": "https://localhost:8080/"
    },
    "id": "Rx9YPLfavT0T",
    "outputId": "69a0afb7-0b13-4784-e2f0-730e32eb11ec"
   },
   "outputs": [
    {
     "data": {
      "text/plain": [
       "{1, 2, 3, 4, 5, 6, 7, 8}"
      ]
     },
     "execution_count": 15,
     "metadata": {},
     "output_type": "execute_result"
    }
   ],
   "source": [
    "def combine_sets(set1, set2):\n",
    "\n",
    "    combined_set = set1 | set2\n",
    "    return combined_set\n",
    "    combined_set = combine_sets(set1, set2)\n",
    "\n",
    "\n",
    "    print(\"Combined Set:\")\n",
    "    print(combined_set)\n",
    "\n",
    "set1 = {1, 2, 3, 4, 5}\n",
    "set2 = {4, 5, 6, 7, 8}\n",
    "combine_sets(set1, set2)"
   ]
  },
  {
   "cell_type": "markdown",
   "metadata": {
    "id": "o7W4Vi4LjJ_5"
   },
   "source": [
    "## Problem 20"
   ]
  },
  {
   "cell_type": "markdown",
   "metadata": {
    "id": "vwiesuxPjJ_6"
   },
   "source": [
    "Write a program that removes values in set 1 similar to values in set 2 and print the result."
   ]
  },
  {
   "cell_type": "code",
   "execution_count": 16,
   "metadata": {
    "colab": {
     "base_uri": "https://localhost:8080/"
    },
    "id": "eazx-n-bvUdQ",
    "outputId": "5895b56d-dade-4c78-e3e2-784d1b13bd43"
   },
   "outputs": [
    {
     "data": {
      "text/plain": [
       "{1, 2, 3}"
      ]
     },
     "execution_count": 16,
     "metadata": {},
     "output_type": "execute_result"
    }
   ],
   "source": [
    "def remove_similar_values(set1, set2):\n",
    "    result_set = set1 - set2\n",
    "\n",
    "    return result_set\n",
    "    result_set = remove_similar_values(set1, set2)\n",
    "\n",
    "    print(\"Result Set:\\n\",result_set)\n",
    "\n",
    "\n",
    "set1 = {1, 2, 3, 4, 5}\n",
    "set2 = {4, 5, 6, 7, 8}\n",
    "remove_similar_values(set1, set2)\n"
   ]
  },
  {
   "cell_type": "markdown",
   "metadata": {
    "id": "JXxz8L3qjJ_6"
   },
   "source": [
    "## Problem 21"
   ]
  },
  {
   "cell_type": "markdown",
   "metadata": {
    "id": "o-KvFoPZjJ_6"
   },
   "source": [
    "Write a program that converts two lists to a dictionary."
   ]
  },
  {
   "cell_type": "code",
   "execution_count": 17,
   "metadata": {
    "colab": {
     "base_uri": "https://localhost:8080/"
    },
    "id": "XgXn0giYvVEL",
    "outputId": "b8b42295-d553-408b-e975-80e19e709d82"
   },
   "outputs": [
    {
     "name": "stdout",
     "output_type": "stream",
     "text": [
      "{'a': 1, 'b': 2, 'c': 3}\n"
     ]
    }
   ],
   "source": [
    "def lists_to_dict(keys_list, values_list):\n",
    "\n",
    "    result_dict = dict(zip(keys_list, values_list))\n",
    "\n",
    "    return result_dict\n",
    "\n",
    "    result_dict = lists_to_dict(keys_list, values_list)\n",
    "\n",
    "    print(\"Result Dictionary:\\n\",result_dict)\n",
    "\n",
    "keys_list = ['a', 'b', 'c']\n",
    "values_list = [1, 2, 3]\n",
    "result_dict = lists_to_dict(keys_list, values_list)\n",
    "print(result_dict)"
   ]
  },
  {
   "cell_type": "markdown",
   "metadata": {
    "id": "bIsHdxkGjJ_7"
   },
   "source": [
    "## Problem 22"
   ]
  },
  {
   "cell_type": "markdown",
   "metadata": {
    "id": "x0n6w9DgjJ_7"
   },
   "source": [
    "Write a program that extracts specific keys from a given dictionary and create a new dictionary out of them."
   ]
  },
  {
   "cell_type": "code",
   "execution_count": 18,
   "metadata": {
    "colab": {
     "base_uri": "https://localhost:8080/"
    },
    "id": "QEfYYlRhvVgJ",
    "outputId": "af871eac-cfd5-484c-e272-bd5c09c20dac"
   },
   "outputs": [
    {
     "name": "stdout",
     "output_type": "stream",
     "text": [
      "{'mosa': 22, 'khaled': 23}\n"
     ]
    }
   ],
   "source": [
    "dic1={\"mosa\":22,\"khaled\":23,\"mona\":100}\n",
    "dic2={}\n",
    "dic2[\"mosa\"]=dic1[\"mosa\"]\n",
    "dic2[\"khaled\"]=dic1[\"khaled\"]\n",
    "print(dic2)"
   ]
  },
  {
   "cell_type": "markdown",
   "metadata": {
    "id": "q778dR61jJ_7"
   },
   "source": [
    "## Problem 23"
   ]
  },
  {
   "cell_type": "markdown",
   "metadata": {
    "id": "Sbft804YjJ_7"
   },
   "source": [
    "Write a program that removes keys from a given dictionary without creating a new dictionary."
   ]
  },
  {
   "cell_type": "code",
   "execution_count": 19,
   "metadata": {
    "colab": {
     "base_uri": "https://localhost:8080/"
    },
    "id": "-rW2fHt4vWSg",
    "outputId": "2ce02b4d-ad55-4d49-cba7-3a57df38a9d7"
   },
   "outputs": [
    {
     "name": "stdout",
     "output_type": "stream",
     "text": [
      "{'Ahmed': 22, 'sara': 22}\n"
     ]
    }
   ],
   "source": [
    "dic={\"Ali\":25,\"Ahmed\":22,\"sara\":22}\n",
    "dic.pop(\"Ali\")\n",
    "print(dic)\n",
    "\n"
   ]
  }
 ],
 "metadata": {
  "colab": {
   "provenance": []
  },
  "kernelspec": {
   "display_name": "Python 3 (ipykernel)",
   "language": "python",
   "name": "python3"
  },
  "language_info": {
   "codemirror_mode": {
    "name": "ipython",
    "version": 3
   },
   "file_extension": ".py",
   "mimetype": "text/x-python",
   "name": "python",
   "nbconvert_exporter": "python",
   "pygments_lexer": "ipython3",
   "version": "3.8.10"
  }
 },
 "nbformat": 4,
 "nbformat_minor": 4
}
