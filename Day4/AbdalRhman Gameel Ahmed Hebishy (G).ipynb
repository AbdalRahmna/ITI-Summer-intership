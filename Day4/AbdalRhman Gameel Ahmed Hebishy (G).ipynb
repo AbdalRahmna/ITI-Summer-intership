{
 "cells": [
  {
   "cell_type": "markdown",
   "id": "895c5911-5a5a-4edd-856a-2cf5e6020498",
   "metadata": {},
   "source": [
    "## Trainee : AbdalRhman Gameel Ahmed Hebishy (G5)"
   ]
  },
  {
   "cell_type": "code",
   "execution_count": 1,
   "id": "69eb2498-2572-4eed-ae30-b739908fe6bf",
   "metadata": {},
   "outputs": [],
   "source": [
    "import numpy as np"
   ]
  },
  {
   "cell_type": "markdown",
   "id": "f4544a86-f387-4488-a3de-15ec34879a26",
   "metadata": {},
   "source": [
    "## Find the determinant of the matrix M1 :(By Code) :"
   ]
  },
  {
   "cell_type": "code",
   "execution_count": 2,
   "id": "a1daf0a7-9343-402f-ab63-3a84e2f26b9e",
   "metadata": {},
   "outputs": [
    {
     "name": "stdout",
     "output_type": "stream",
     "text": [
      "Determinant of M: 14.999999999999993\n"
     ]
    }
   ],
   "source": [
    "M1 = np.array([[17, -11], [6, -3]])\n",
    "det_M = np.linalg.det(M1)\n",
    "print(\"Determinant of M:\", det_M)"
   ]
  },
  {
   "cell_type": "markdown",
   "id": "0195a1ae-fb64-458a-9e08-4a6ec3ccd2cd",
   "metadata": {},
   "source": [
    "## Find the determinant of the matrix M2:(By Code) :"
   ]
  },
  {
   "cell_type": "code",
   "execution_count": 3,
   "id": "eea22453-86a0-43ac-81f6-da6e48d0271b",
   "metadata": {},
   "outputs": [
    {
     "name": "stdout",
     "output_type": "stream",
     "text": [
      "Determinant of M: -7.999999999999998\n"
     ]
    }
   ],
   "source": [
    "M2 = np.array([[1, 1, 2], [2, 3, 1], [3, 4, -5]])\n",
    "det_M = np.linalg.det(M2)\n",
    "print(\"Determinant of M:\", det_M)"
   ]
  },
  {
   "cell_type": "markdown",
   "id": "92fc2b61-760e-4bdb-a7aa-41318adb6119",
   "metadata": {},
   "source": [
    "## Find the inverse matrix A-1 to the matrix A : (By Code)"
   ]
  },
  {
   "cell_type": "code",
   "execution_count": 4,
   "id": "e9f85901-dd43-4b76-a1a5-88600b9ebf37",
   "metadata": {},
   "outputs": [
    {
     "name": "stdout",
     "output_type": "stream",
     "text": [
      "Inverse of A:\n",
      " [[-1.         -0.66666667]\n",
      " [ 1.          1.        ]]\n"
     ]
    }
   ],
   "source": [
    "A = np.array([[-3, -2], [3, 3]])\n",
    "A_inv = np.linalg.inv(A)\n",
    "print(\"Inverse of A:\\n\",A_inv)\n"
   ]
  },
  {
   "cell_type": "markdown",
   "id": "65d54edc-92b4-4b47-b055-97a88e4c2fd6",
   "metadata": {},
   "source": [
    "## Find the inverse matrix A-1 to the matrix A ([[0,1,1],[1,0,1],[1,1,1]]) : (By Code) :"
   ]
  },
  {
   "cell_type": "code",
   "execution_count": 5,
   "id": "b03029c7-dad9-436b-a52a-4470088e76b2",
   "metadata": {},
   "outputs": [
    {
     "name": "stdout",
     "output_type": "stream",
     "text": [
      "Inverse of A:\n",
      " [[ 0. -1.  1.]\n",
      " [-1.  0.  1.]\n",
      " [ 1.  1. -1.]]\n"
     ]
    }
   ],
   "source": [
    "import numpy as np\n",
    "\n",
    "\n",
    "A = np.array([[1, 0, 1], [0, 1, 1], [1, 1, 1]])\n",
    "A_inv = np.linalg.inv(A)\n",
    "print(\"Inverse of A:\\n\",A_inv)"
   ]
  },
  {
   "cell_type": "code",
   "execution_count": 6,
   "id": "f88666fc-dc5f-4b01-9eb6-d95722395a61",
   "metadata": {},
   "outputs": [
    {
     "name": "stdout",
     "output_type": "stream",
     "text": [
      "The system has no solution.\n"
     ]
    }
   ],
   "source": [
    "A = np.array([\n",
    "    [1, 4, 3, -1],\n",
    "    [1, -1, 1, 2],\n",
    "    [4, 1, 6, 5]\n",
    "])\n",
    "\n",
    "b = np.array([5, 6, 9])\n",
    "\n",
    "try:\n",
    "    solution = np.linalg.solve(A, b)\n",
    "    print(\"Solution of the system:\")\n",
    "    print(solution)\n",
    "except np.linalg.LinAlgError as e:\n",
    "    print(\"The system has no solution.\")\n",
    "\n"
   ]
  },
  {
   "cell_type": "code",
   "execution_count": 7,
   "id": "9eae3476-a447-45a3-bba5-846e8caceefe",
   "metadata": {},
   "outputs": [
    {
     "name": "stdout",
     "output_type": "stream",
     "text": [
      "The system has no unique solution.\n"
     ]
    }
   ],
   "source": [
    "A = np.array([\n",
    "    [1, -2, 1, -1],\n",
    "    [2, -4, 1, 1],\n",
    "    [1, -2, -2, 3]\n",
    "])\n",
    "\n",
    "\n",
    "b = np.array([3, 2, 1])\n",
    "\n",
    "try:\n",
    "    solution = np.linalg.solve(A, b)\n",
    "    print(\"Solution of the system:\")\n",
    "    print(solution)\n",
    "except np.linalg.LinAlgError as e:\n",
    "    print(\"The system has no unique solution.\")\n",
    "\n",
    "    "
   ]
  },
  {
   "cell_type": "code",
   "execution_count": 8,
   "id": "24876714-e1bb-4db6-a623-8c5996254a5c",
   "metadata": {},
   "outputs": [
    {
     "name": "stdout",
     "output_type": "stream",
     "text": [
      "3x3 Array:\n",
      "[[1 2 3]\n",
      " [4 5 6]\n",
      " [7 8 9]]\n"
     ]
    }
   ],
   "source": [
    "# Create a 3x3 array\n",
    "arr = np.array([[1, 2, 3], [4, 5, 6], [7, 8, 9]])\n",
    "print(\"3x3 Array:\")\n",
    "print(arr)"
   ]
  },
  {
   "cell_type": "code",
   "execution_count": 9,
   "id": "a25f7655-99e6-427a-9ffb-ba3b54fae55f",
   "metadata": {},
   "outputs": [
    {
     "name": "stdout",
     "output_type": "stream",
     "text": [
      "Shape of the array: (3, 3)\n"
     ]
    }
   ],
   "source": [
    "# Check the shape of the array\n",
    "shape = arr.shape\n",
    "print(\"Shape of the array:\", shape)"
   ]
  },
  {
   "cell_type": "code",
   "execution_count": 10,
   "id": "b7153b2e-071c-4e2e-a03f-c01828e0a99f",
   "metadata": {},
   "outputs": [
    {
     "name": "stdout",
     "output_type": "stream",
     "text": [
      "First row:\n",
      "[1 2 3]\n"
     ]
    }
   ],
   "source": [
    "# Select the first row\n",
    "first_row = arr[0, :]\n",
    "print(\"First row:\")\n",
    "print(first_row)"
   ]
  },
  {
   "cell_type": "code",
   "execution_count": 11,
   "id": "a93099bf-2f9c-4406-8bfc-6dc53f4b5dd6",
   "metadata": {},
   "outputs": [
    {
     "name": "stdout",
     "output_type": "stream",
     "text": [
      "2nd column:\n",
      "[2 5 8]\n"
     ]
    }
   ],
   "source": [
    "# Select the 2nd column\n",
    "second_column = arr[:, 1]\n",
    "print(\"2nd column:\")\n",
    "print(second_column)"
   ]
  },
  {
   "cell_type": "code",
   "execution_count": 12,
   "id": "67e69e77-72f6-4155-b68f-b11c9574faf7",
   "metadata": {},
   "outputs": [
    {
     "data": {
      "text/plain": [
       "6"
      ]
     },
     "execution_count": 12,
     "metadata": {},
     "output_type": "execute_result"
    }
   ],
   "source": [
    "# Select the 2nd element in the third column\n",
    "second_element_third_column = arr[1, 2]\n",
    "second_element_third_column"
   ]
  },
  {
   "cell_type": "code",
   "execution_count": 13,
   "id": "8a425a00-4168-4865-ab03-c3484a174279",
   "metadata": {},
   "outputs": [
    {
     "name": "stdout",
     "output_type": "stream",
     "text": [
      "2x2 Array:\n",
      "[[1 2]\n",
      " [4 5]]\n"
     ]
    }
   ],
   "source": [
    "# Create a 2x2 array from the first two elements of the first 2 rows and columns\n",
    "arr_2x2 = arr[:2, :2]\n",
    "print(\"2x2 Array:\")\n",
    "print(arr_2x2)"
   ]
  },
  {
   "cell_type": "code",
   "execution_count": 14,
   "id": "5dade0c4-a20e-4d6c-b04f-9703ba863cc4",
   "metadata": {},
   "outputs": [
    {
     "name": "stdout",
     "output_type": "stream",
     "text": [
      "Single row vector:\n",
      "[[10 11 12]]\n"
     ]
    }
   ],
   "source": [
    "# Create a single row vector\n",
    "row_vector = np.array([[10, 11, 12]])\n",
    "print(\"Single row vector:\")\n",
    "print(row_vector)"
   ]
  },
  {
   "cell_type": "code",
   "execution_count": 15,
   "id": "602d1c41-1457-45d7-ac8a-312ead2e7e76",
   "metadata": {},
   "outputs": [
    {
     "name": "stdout",
     "output_type": "stream",
     "text": [
      "Single column vector:\n",
      "[[13]\n",
      " [14]\n",
      " [15]]\n"
     ]
    }
   ],
   "source": [
    "# Create a single column vector\n",
    "column_vector = np.array([[13], [14], [15]])\n",
    "print(\"Single column vector:\")\n",
    "print(column_vector)"
   ]
  }
 ],
 "metadata": {
  "kernelspec": {
   "display_name": "Python 3 (ipykernel)",
   "language": "python",
   "name": "python3"
  },
  "language_info": {
   "codemirror_mode": {
    "name": "ipython",
    "version": 3
   },
   "file_extension": ".py",
   "mimetype": "text/x-python",
   "name": "python",
   "nbconvert_exporter": "python",
   "pygments_lexer": "ipython3",
   "version": "3.8.10"
  }
 },
 "nbformat": 4,
 "nbformat_minor": 5
}
