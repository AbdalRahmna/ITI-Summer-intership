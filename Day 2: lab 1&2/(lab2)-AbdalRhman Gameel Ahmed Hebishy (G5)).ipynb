{
 "cells": [
  {
   "cell_type": "markdown",
   "metadata": {
    "id": "RMLfY7pcYVr_"
   },
   "source": [
    "\n",
    "\n",
    "## Trainee : AbdalRhman Gameel Ahmed Hebishy (G5)\n",
    "\n"
   ]
  },
  {
   "cell_type": "markdown",
   "metadata": {
    "id": "5DEAM2Z8ZGFW"
   },
   "source": [
    "# Advanced NumPy\n",
    "\n",
    "Welcome to the advanced notebook in NumPy! If you have comments or suggestions, please don’t hesitate to share it in the end of the session!\n",
    "\n",
    "![alt_text](S1-pics\\NumPy_logo.png)"
   ]
  },
  {
   "cell_type": "code",
   "execution_count": 99,
   "metadata": {
    "id": "Rp-cpGsZZGFc"
   },
   "outputs": [],
   "source": [
    "import numpy as np"
   ]
  },
  {
   "cell_type": "markdown",
   "metadata": {
    "id": "dQTqIyd5ZGFf"
   },
   "source": [
    "-----"
   ]
  },
  {
   "cell_type": "markdown",
   "metadata": {
    "id": "upxXrE7dZGFf"
   },
   "source": [
    "# Section 1: Broadcasting\n",
    "Broadcasting is simply a set of rules for applying binary ufuncs (e.g., addition, subtraction, multiplication, etc.) on arrays of different sizes.\n",
    "\n",
    "## Rules of Broadcasting\n",
    "\n",
    "Broadcasting in NumPy follows a strict set of rules to determine the interaction between the two arrays:\n",
    "\n",
    "- Rule 1: If the two arrays differ in their number of dimensions, the shape of the one with fewer dimensions is *padded* with ones on its leading (left) side.\n",
    "- Rule 2: If the shape of the two arrays does not match in any dimension, the array with shape equal to 1 in that dimension is stretched to match the other shape.\n",
    "- Rule 3: If in any dimension the sizes disagree and neither is equal to 1, an error is raised.\n",
    "\n",
    "---\n",
    "\n",
    "### Broadcasting example 1\n",
    "\n",
    "Let's look at adding a two-dimensional array to a one-dimensional array:"
   ]
  },
  {
   "cell_type": "code",
   "execution_count": 100,
   "metadata": {
    "colab": {
     "base_uri": "https://localhost:8080/"
    },
    "id": "IVpfaruoZGFh",
    "outputId": "a6ccdd8a-acb2-43f4-dcb8-195704848419"
   },
   "outputs": [
    {
     "data": {
      "text/plain": [
       "array([[1., 1., 1.],\n",
       "       [1., 1., 1.]])"
      ]
     },
     "execution_count": 100,
     "metadata": {},
     "output_type": "execute_result"
    }
   ],
   "source": [
    "M = np.ones((2, 3))\n",
    "M"
   ]
  },
  {
   "cell_type": "code",
   "execution_count": 101,
   "metadata": {
    "colab": {
     "base_uri": "https://localhost:8080/"
    },
    "id": "IstpFOrKZGFk",
    "outputId": "0ebb7233-9d1d-4aab-97af-23d354dfa0ee"
   },
   "outputs": [
    {
     "data": {
      "text/plain": [
       "array([0, 1, 2])"
      ]
     },
     "execution_count": 101,
     "metadata": {},
     "output_type": "execute_result"
    }
   ],
   "source": [
    "a = np.arange(3)\n",
    "a"
   ]
  },
  {
   "cell_type": "markdown",
   "metadata": {
    "id": "GzPYUNkzZGFl"
   },
   "source": [
    "Let's consider an operation on these two arrays. The shape of the arrays are\n",
    "\n",
    "- ``M.shape = (2, 3)``\n",
    "- ``a.shape = (3,)``\n",
    "\n",
    "We see by rule 1 that the array ``a`` has fewer dimensions, so we pad it on the left with ones:\n",
    "\n",
    "- ``M.shape -> (2, 3)``\n",
    "- ``a.shape -> (1, 3)``\n",
    "\n",
    "By rule 2, we now see that the first dimension disagrees, so we stretch this dimension to match:\n",
    "\n",
    "- ``M.shape -> (2, 3)``\n",
    "- ``a.shape -> (2, 3)``\n",
    "\n",
    "The shapes match, and we see that the final shape will be ``(2, 3)``:"
   ]
  },
  {
   "cell_type": "code",
   "execution_count": 102,
   "metadata": {
    "colab": {
     "base_uri": "https://localhost:8080/"
    },
    "id": "i0rE2DdAZGFl",
    "outputId": "db8f5d65-2658-471a-cfcc-8e0f1764ad6f"
   },
   "outputs": [
    {
     "data": {
      "text/plain": [
       "array([[1., 2., 3.],\n",
       "       [1., 2., 3.]])"
      ]
     },
     "execution_count": 102,
     "metadata": {},
     "output_type": "execute_result"
    }
   ],
   "source": [
    "M + a"
   ]
  },
  {
   "cell_type": "markdown",
   "metadata": {
    "id": "C3mTd5NJZGFn"
   },
   "source": [
    "### Broadcasting example 2\n",
    "\n",
    "Let's take a look at an example where both arrays need to be broadcast:"
   ]
  },
  {
   "cell_type": "code",
   "execution_count": 103,
   "metadata": {
    "colab": {
     "base_uri": "https://localhost:8080/"
    },
    "id": "yq-81fHfZGFn",
    "outputId": "7143a0e6-14ac-4acf-fb8e-c3d55cf25182"
   },
   "outputs": [
    {
     "data": {
      "text/plain": [
       "array([[0],\n",
       "       [1],\n",
       "       [2]])"
      ]
     },
     "execution_count": 103,
     "metadata": {},
     "output_type": "execute_result"
    }
   ],
   "source": [
    "a = np.arange(3).reshape((3, 1))\n",
    "a"
   ]
  },
  {
   "cell_type": "code",
   "execution_count": 104,
   "metadata": {
    "colab": {
     "base_uri": "https://localhost:8080/"
    },
    "id": "0QLfJi2dZGFo",
    "outputId": "2c0c9ae9-4610-4f4a-a6d8-0101e8be238c"
   },
   "outputs": [
    {
     "data": {
      "text/plain": [
       "array([0, 1, 2])"
      ]
     },
     "execution_count": 104,
     "metadata": {},
     "output_type": "execute_result"
    }
   ],
   "source": [
    "b = np.arange(3)\n",
    "b"
   ]
  },
  {
   "cell_type": "markdown",
   "metadata": {
    "id": "AGEfoBMEZGFo"
   },
   "source": [
    "Again, we'll start by writing out the shape of the arrays:\n",
    "\n",
    "- ``a.shape = (3, 1)``\n",
    "- ``b.shape = (3,)``\n",
    "\n",
    "Rule 1 says we must pad the shape of ``b`` with ones:\n",
    "\n",
    "- ``a.shape -> (3, 1)``\n",
    "- ``b.shape -> (1, 3)``\n",
    "\n",
    "And rule 2 tells us that we upgrade each of these ones to match the corresponding size of the other array:\n",
    "\n",
    "- ``a.shape -> (3, 3)``\n",
    "- ``b.shape -> (3, 3)``\n",
    "\n",
    "Because the result matches, these shapes are compatible. We can see this here:"
   ]
  },
  {
   "cell_type": "code",
   "execution_count": 105,
   "metadata": {
    "colab": {
     "base_uri": "https://localhost:8080/"
    },
    "id": "dWaCuANkZGFp",
    "outputId": "70de64f4-3a31-4915-e653-a79791357909"
   },
   "outputs": [
    {
     "data": {
      "text/plain": [
       "array([[0, 1, 2],\n",
       "       [1, 2, 3],\n",
       "       [2, 3, 4]])"
      ]
     },
     "execution_count": 105,
     "metadata": {},
     "output_type": "execute_result"
    }
   ],
   "source": [
    "a + b"
   ]
  },
  {
   "cell_type": "markdown",
   "metadata": {
    "id": "yq_NiVpjZGFp"
   },
   "source": [
    "### Broadcasting example 3\n",
    "\n",
    "Now let's take a look at an example in which the two arrays are not compatible:"
   ]
  },
  {
   "cell_type": "code",
   "execution_count": 106,
   "metadata": {
    "colab": {
     "base_uri": "https://localhost:8080/"
    },
    "id": "xWFKBU3_ZGFp",
    "outputId": "3a68076e-dc41-4288-e631-bc298d7d15df"
   },
   "outputs": [
    {
     "data": {
      "text/plain": [
       "array([[1., 1.],\n",
       "       [1., 1.],\n",
       "       [1., 1.]])"
      ]
     },
     "execution_count": 106,
     "metadata": {},
     "output_type": "execute_result"
    }
   ],
   "source": [
    "M = np.ones((3, 2))\n",
    "M\n"
   ]
  },
  {
   "cell_type": "code",
   "execution_count": 107,
   "metadata": {
    "colab": {
     "base_uri": "https://localhost:8080/"
    },
    "id": "dOHRE-yRZGFq",
    "outputId": "1b5edd40-f5de-434b-946a-dccb9258e93f"
   },
   "outputs": [
    {
     "data": {
      "text/plain": [
       "array([0, 1, 2])"
      ]
     },
     "execution_count": 107,
     "metadata": {},
     "output_type": "execute_result"
    }
   ],
   "source": [
    "a = np.arange(3)\n",
    "a"
   ]
  },
  {
   "cell_type": "markdown",
   "metadata": {
    "id": "NdAfCrNNZGFq"
   },
   "source": [
    "This is just a slightly different situation than in the first example: the matrix ``M`` is transposed.\n",
    "How does this affect the calculation? The shape of the arrays are\n",
    "\n",
    "- ``M.shape = (3, 2)``\n",
    "- ``a.shape = (3,)``\n",
    "\n",
    "Again, rule 1 tells us that we must pad the shape of ``a`` with ones:\n",
    "\n",
    "- ``M.shape -> (3, 2)``\n",
    "- ``a.shape -> (1, 3)``\n",
    "\n",
    "By rule 2, the first dimension of ``a`` is stretched to match that of ``M``:\n",
    "\n",
    "- ``M.shape -> (3, 2)``\n",
    "- ``a.shape -> (3, 3)``\n",
    "\n",
    "Now we hit rule 3–the final shapes do not match, so these two arrays are incompatible, as we can observe by attempting this operation:"
   ]
  },
  {
   "cell_type": "code",
   "execution_count": 108,
   "metadata": {
    "colab": {
     "base_uri": "https://localhost:8080/"
    },
    "id": "nYi_oUfaZGFr",
    "outputId": "32dbebb1-8384-453e-e180-2576331d50e2"
   },
   "outputs": [
    {
     "data": {
      "text/plain": [
       "array([[1., 1.],\n",
       "       [2., 2.],\n",
       "       [3., 3.]])"
      ]
     },
     "execution_count": 108,
     "metadata": {},
     "output_type": "execute_result"
    }
   ],
   "source": [
    "new_var = M + a[:3].reshape((3, 1))\n",
    "new_var"
   ]
  },
  {
   "cell_type": "markdown",
   "metadata": {
    "id": "cusS1zp6ZGFs"
   },
   "source": [
    "Note the potential confusion here:\n",
    "you could imagine making ``a`` and ``M`` compatible by, say, padding ``a``'s shape with ones on the right rather than the left.\n",
    "But this is not how the broadcasting rules work!\n",
    "That sort of flexibility might be useful in some cases, but it would lead to potential areas of ambiguity.\n",
    "\n",
    "If right-side padding is what you'd like, you can do this explicitly by reshaping the array (we'll use the ``np.newaxis`` ):"
   ]
  },
  {
   "cell_type": "code",
   "execution_count": 109,
   "metadata": {
    "colab": {
     "base_uri": "https://localhost:8080/"
    },
    "id": "xn68-uFiZGFs",
    "outputId": "f797fe6a-19a5-42df-ce01-94da75e748ff"
   },
   "outputs": [
    {
     "data": {
      "text/plain": [
       "(3, 1)"
      ]
     },
     "execution_count": 109,
     "metadata": {},
     "output_type": "execute_result"
    }
   ],
   "source": [
    "a[:, np.newaxis].shape"
   ]
  },
  {
   "cell_type": "code",
   "execution_count": 110,
   "metadata": {
    "colab": {
     "base_uri": "https://localhost:8080/"
    },
    "id": "VlbaIYYjZGFt",
    "outputId": "6bd9c01d-66ef-4244-d2d6-38a177f1c684"
   },
   "outputs": [
    {
     "data": {
      "text/plain": [
       "array([[1., 1.],\n",
       "       [2., 2.],\n",
       "       [3., 3.]])"
      ]
     },
     "execution_count": 110,
     "metadata": {},
     "output_type": "execute_result"
    }
   ],
   "source": [
    "M + a[:, np.newaxis]"
   ]
  },
  {
   "cell_type": "markdown",
   "metadata": {
    "id": "aaL4gEldZGFt"
   },
   "source": [
    "Also note that while we've been focusing on the ``+`` operator here, these broadcasting rules apply to *any* binary ``ufunc``.\n",
    "For example, here is the ``logaddexp(a, b)`` function, which computes ``log(exp(a) + exp(b))`` with more precision than the naive approach:"
   ]
  },
  {
   "cell_type": "code",
   "execution_count": 111,
   "metadata": {
    "colab": {
     "base_uri": "https://localhost:8080/"
    },
    "id": "gZUHJhNXZGFu",
    "outputId": "aa0a0d84-b4a4-4254-eaaf-b8477291a0e4"
   },
   "outputs": [
    {
     "data": {
      "text/plain": [
       "array([[1.31326169, 1.31326169],\n",
       "       [1.69314718, 1.69314718],\n",
       "       [2.31326169, 2.31326169]])"
      ]
     },
     "execution_count": 111,
     "metadata": {},
     "output_type": "execute_result"
    }
   ],
   "source": [
    "np.logaddexp(M, a[:, np.newaxis])"
   ]
  },
  {
   "cell_type": "markdown",
   "metadata": {
    "id": "NA2w84ipZGFv"
   },
   "source": [
    "---\n",
    "## Broadcasting in Practice\n",
    "### Centering an array\n",
    "\n",
    "One commonly seen example is when centering an array of data.\n",
    "\n",
    "Imagine you have an array of `10 observations`, each of which consists of `3 values`."
   ]
  },
  {
   "cell_type": "code",
   "execution_count": 112,
   "metadata": {
    "colab": {
     "base_uri": "https://localhost:8080/"
    },
    "id": "1C3ua2avZGFw",
    "outputId": "38ed3d51-9a04-4073-c261-cc6f8533df5f"
   },
   "outputs": [
    {
     "data": {
      "text/plain": [
       "array([[0.75641462, 0.14302242, 0.63724424],\n",
       "       [0.77853413, 0.7199452 , 0.39237667],\n",
       "       [0.81277831, 0.78938951, 0.83422381],\n",
       "       [0.1466074 , 0.81878254, 0.19476508],\n",
       "       [0.91288997, 0.39850758, 0.40930401],\n",
       "       [0.18199228, 0.15886372, 0.36117546],\n",
       "       [0.58126465, 0.82904687, 0.5690743 ],\n",
       "       [0.9868596 , 0.71971307, 0.6992618 ],\n",
       "       [0.50835862, 0.76167599, 0.47109208],\n",
       "       [0.26600723, 0.93489254, 0.22331695]])"
      ]
     },
     "execution_count": 112,
     "metadata": {},
     "output_type": "execute_result"
    }
   ],
   "source": [
    "X = np.random.random((10, 3))\n",
    "X"
   ]
  },
  {
   "cell_type": "markdown",
   "metadata": {
    "id": "yzZ2lkvoZGFx"
   },
   "source": [
    "We can compute the mean of each feature using the ``mean`` aggregate across the first dimension:"
   ]
  },
  {
   "cell_type": "code",
   "execution_count": 113,
   "metadata": {
    "colab": {
     "base_uri": "https://localhost:8080/"
    },
    "id": "PDGS_lbyZGFx",
    "outputId": "635e05e5-2f3e-4c8e-cf22-753e78316f15"
   },
   "outputs": [
    {
     "data": {
      "text/plain": [
       "array([0.59317068, 0.62738394, 0.47918344])"
      ]
     },
     "execution_count": 113,
     "metadata": {},
     "output_type": "execute_result"
    }
   ],
   "source": [
    "Xmean = X.mean(0)\n",
    "Xmean"
   ]
  },
  {
   "cell_type": "markdown",
   "metadata": {
    "id": "64GuvSTrZGFy"
   },
   "source": [
    "And now we can center the ``X`` array by subtracting the mean (this is a broadcasting operation):"
   ]
  },
  {
   "cell_type": "code",
   "execution_count": 114,
   "metadata": {
    "colab": {
     "base_uri": "https://localhost:8080/"
    },
    "id": "_K5VGByPZGFz",
    "outputId": "8d51d33b-9f55-4022-be57-dd2d6ec94756"
   },
   "outputs": [
    {
     "data": {
      "text/plain": [
       "array([[ 0.16324394, -0.48436152,  0.1580608 ],\n",
       "       [ 0.18536345,  0.09256125, -0.08680677],\n",
       "       [ 0.21960763,  0.16200557,  0.35504037],\n",
       "       [-0.44656328,  0.19139859, -0.28441836],\n",
       "       [ 0.31971929, -0.22887637, -0.06987943],\n",
       "       [-0.4111784 , -0.46852022, -0.11800798],\n",
       "       [-0.01190603,  0.20166292,  0.08989086],\n",
       "       [ 0.39368892,  0.09232912,  0.22007836],\n",
       "       [-0.08481206,  0.13429205, -0.00809136],\n",
       "       [-0.32716345,  0.3075086 , -0.25586649]])"
      ]
     },
     "execution_count": 114,
     "metadata": {},
     "output_type": "execute_result"
    }
   ],
   "source": [
    "X_centered = X - Xmean\n",
    "X_centered"
   ]
  },
  {
   "cell_type": "markdown",
   "metadata": {
    "id": "P39hiM5sZGFz"
   },
   "source": [
    "To double-check that we've done this correctly, we can check that the centered array has near zero mean:"
   ]
  },
  {
   "cell_type": "code",
   "execution_count": 115,
   "metadata": {
    "colab": {
     "base_uri": "https://localhost:8080/"
    },
    "id": "tHocCQExZGF0",
    "outputId": "9182ee5c-fbb4-41af-c1db-e9fdb066c721"
   },
   "outputs": [
    {
     "data": {
      "text/plain": [
       "array([ 1.22124533e-16,  6.66133815e-17, -3.33066907e-17])"
      ]
     },
     "execution_count": 115,
     "metadata": {},
     "output_type": "execute_result"
    }
   ],
   "source": [
    "X_centered.mean(0)"
   ]
  },
  {
   "cell_type": "markdown",
   "metadata": {
    "id": "Pr3BNMxjZGF0"
   },
   "source": [
    "----"
   ]
  },
  {
   "cell_type": "markdown",
   "metadata": {
    "id": "j7GeQ0_jZGF1"
   },
   "source": [
    "# Section 2: More useful array operations\n",
    "This section covers `maximum`, `minimum`, `sum`, `mean`, `product`, `standard deviation` and more\n",
    "\n",
    "NumPy also performs aggregation functions. In addition to `min`, `max`, and `sum`,\n",
    "- you can easily run `mean` to get the average,\n",
    "-`prod` to get the result of multiplying the elements together,\n",
    "-`std` to get the standard deviation, and more.\n",
    "\n",
    "Once you’ve created your arrays, you can start to work with them."
   ]
  },
  {
   "cell_type": "code",
   "execution_count": 116,
   "metadata": {
    "colab": {
     "base_uri": "https://localhost:8080/"
    },
    "id": "6lHU0WYiZGF1",
    "outputId": "79127e95-4376-4e65-ed33-5ed262e85bf8"
   },
   "outputs": [
    {
     "data": {
      "text/plain": [
       "array([1., 2., 3.])"
      ]
     },
     "execution_count": 116,
     "metadata": {},
     "output_type": "execute_result"
    }
   ],
   "source": [
    "data = np.array([1.0, 2.0, 3.0])\n",
    "data"
   ]
  },
  {
   "cell_type": "code",
   "execution_count": 117,
   "metadata": {
    "colab": {
     "base_uri": "https://localhost:8080/"
    },
    "id": "zJ1fAvjLZGF2",
    "outputId": "16351472-6176-4311-a33d-ac2a3ffc5789"
   },
   "outputs": [
    {
     "data": {
      "text/plain": [
       "3.0"
      ]
     },
     "execution_count": 117,
     "metadata": {},
     "output_type": "execute_result"
    }
   ],
   "source": [
    "data.max()"
   ]
  },
  {
   "cell_type": "code",
   "execution_count": 118,
   "metadata": {
    "colab": {
     "base_uri": "https://localhost:8080/"
    },
    "id": "agVjq5LIZGF2",
    "outputId": "6502dc04-8d42-4b6e-cd93-631c3be825ce"
   },
   "outputs": [
    {
     "data": {
      "text/plain": [
       "1.0"
      ]
     },
     "execution_count": 118,
     "metadata": {},
     "output_type": "execute_result"
    }
   ],
   "source": [
    "data.min()"
   ]
  },
  {
   "cell_type": "code",
   "execution_count": 119,
   "metadata": {
    "colab": {
     "base_uri": "https://localhost:8080/"
    },
    "id": "Wn0UZHyUZGF3",
    "outputId": "fd5b5d50-92ff-4167-e025-579a012788cf"
   },
   "outputs": [
    {
     "data": {
      "text/plain": [
       "6.0"
      ]
     },
     "execution_count": 119,
     "metadata": {},
     "output_type": "execute_result"
    }
   ],
   "source": [
    "data.sum()"
   ]
  },
  {
   "cell_type": "code",
   "execution_count": 120,
   "metadata": {},
   "outputs": [
    {
     "data": {
      "text/plain": [
       "2.0"
      ]
     },
     "execution_count": 120,
     "metadata": {},
     "output_type": "execute_result"
    }
   ],
   "source": [
    "data.mean()"
   ]
  },
  {
   "cell_type": "code",
   "execution_count": 121,
   "metadata": {},
   "outputs": [
    {
     "data": {
      "text/plain": [
       "0.816496580927726"
      ]
     },
     "execution_count": 121,
     "metadata": {},
     "output_type": "execute_result"
    }
   ],
   "source": [
    "data.std()"
   ]
  },
  {
   "cell_type": "code",
   "execution_count": 122,
   "metadata": {},
   "outputs": [
    {
     "data": {
      "text/plain": [
       "6.0"
      ]
     },
     "execution_count": 122,
     "metadata": {},
     "output_type": "execute_result"
    }
   ],
   "source": [
    "data.prod()"
   ]
  },
  {
   "cell_type": "markdown",
   "metadata": {
    "id": "N77nrk-GZGF3"
   },
   "source": [
    "![alt_text](S1-pics\\data.png)"
   ]
  },
  {
   "cell_type": "markdown",
   "metadata": {
    "id": "djjcLab1ZGF3"
   },
   "source": [
    "Let’s start with this array, called `a`\n",
    "\n",
    "It’s very common to want to aggregate along a row or column. By default, every NumPy aggregation function will return the aggregate of the entire array.\n",
    "\n",
    "**Try It**\n",
    "- To find the sum or the minimum of the elements in your array\n",
    "\n"
   ]
  },
  {
   "cell_type": "code",
   "execution_count": 123,
   "metadata": {
    "id": "AYMlYr76ZGGC"
   },
   "outputs": [],
   "source": [
    "a = np.array([[0.45053314, 0.17296777, 0.34376245, 0.5510652],\n",
    "               [0.54627315, 0.05093587, 0.40067661, 0.55645993],\n",
    "               [0.12697628, 0.82485143, 0.26590556, 0.56917101]])"
   ]
  },
  {
   "cell_type": "code",
   "execution_count": 124,
   "metadata": {
    "colab": {
     "base_uri": "https://localhost:8080/"
    },
    "id": "yRQqPghrZGGC",
    "outputId": "ea819498-4a9f-43cd-fe50-7eb76688417b"
   },
   "outputs": [
    {
     "data": {
      "text/plain": [
       "4.8595784"
      ]
     },
     "execution_count": 124,
     "metadata": {},
     "output_type": "execute_result"
    }
   ],
   "source": [
    "# Code here\n",
    "a.sum()"
   ]
  },
  {
   "cell_type": "code",
   "execution_count": 125,
   "metadata": {
    "colab": {
     "base_uri": "https://localhost:8080/"
    },
    "id": "Lgb3OKpwZGGD",
    "outputId": "c756ef89-fea8-40d7-8cf4-1a5117c5fc08"
   },
   "outputs": [
    {
     "data": {
      "text/plain": [
       "0.05093587"
      ]
     },
     "execution_count": 125,
     "metadata": {},
     "output_type": "execute_result"
    }
   ],
   "source": [
    "# Code here\n",
    "a.min()"
   ]
  },
  {
   "cell_type": "markdown",
   "metadata": {
    "id": "Iw3s5y5MZGGD"
   },
   "source": [
    "You can specify on which axis you want the aggregation function to be computed.\n",
    "\n",
    "**Try To**\n",
    "- find the minimum value within each column by specifying `axis=0`."
   ]
  },
  {
   "cell_type": "code",
   "execution_count": 126,
   "metadata": {
    "colab": {
     "base_uri": "https://localhost:8080/"
    },
    "id": "B6mi6y7fZGGD",
    "outputId": "a8060c18-a7a0-4c98-c089-b46c40633164"
   },
   "outputs": [
    {
     "data": {
      "text/plain": [
       "array([0.12697628, 0.05093587, 0.26590556, 0.5510652 ])"
      ]
     },
     "execution_count": 126,
     "metadata": {},
     "output_type": "execute_result"
    }
   ],
   "source": [
    "# Code here\n",
    "a.min(axis=0)"
   ]
  },
  {
   "cell_type": "markdown",
   "metadata": {
    "id": "7vIqIM9yZGGE"
   },
   "source": [
    "The four values listed above correspond to the number of columns in your array. With a four-column array, you will get four values as your result.\n",
    "\n",
    "**Read more about [array methods here](https://numpy.org/doc/stable/reference/arrays.ndarray.html#array-ndarray-methods).**"
   ]
  },
  {
   "cell_type": "markdown",
   "metadata": {
    "id": "uyN58YOcZGGE"
   },
   "source": [
    "---\n",
    "# Section 3: Creating matrices\n",
    "You can pass Python lists of lists to create a `2-D array` (or `matrix`) to represent them in NumPy.\n"
   ]
  },
  {
   "cell_type": "code",
   "execution_count": 127,
   "metadata": {
    "colab": {
     "base_uri": "https://localhost:8080/"
    },
    "id": "4dqB9Q5eZGGE",
    "outputId": "c730693b-4b90-4e09-bab1-925dc1d26f23"
   },
   "outputs": [
    {
     "data": {
      "text/plain": [
       "array([[1, 2],\n",
       "       [3, 4],\n",
       "       [5, 6]])"
      ]
     },
     "execution_count": 127,
     "metadata": {},
     "output_type": "execute_result"
    }
   ],
   "source": [
    "data = np.array([[1, 2], [3, 4],[5,6]])\n",
    "data"
   ]
  },
  {
   "cell_type": "markdown",
   "metadata": {
    "id": "6nkXl_2TZGGF"
   },
   "source": [
    "![alt_text](S1-pics\\arr.png)\n",
    "\n",
    "Indexing and slicing operations are useful when you’re manipulating matrices:\n",
    "\n",
    "**Try It**\n",
    "- Select 1st element in 2nd column\n",
    "- Select all elements starting from 2nd row till the end\n",
    "- Select 1st and secomnd elemnts in the 1st row\n",
    "\n",
    "![alt_text](S1-pics\\ind.png)"
   ]
  },
  {
   "cell_type": "code",
   "execution_count": 128,
   "metadata": {
    "colab": {
     "base_uri": "https://localhost:8080/"
    },
    "id": "Nht6AiLAZGGF",
    "outputId": "c08c6be3-aa8e-4f1c-d3ca-c242fad1dad0"
   },
   "outputs": [
    {
     "data": {
      "text/plain": [
       "2"
      ]
     },
     "execution_count": 128,
     "metadata": {},
     "output_type": "execute_result"
    }
   ],
   "source": [
    "# Select 1st element in 2nd column\n",
    "first_element_second_column = data[0, 1]\n",
    "first_element_second_column"
   ]
  },
  {
   "cell_type": "code",
   "execution_count": 129,
   "metadata": {
    "colab": {
     "base_uri": "https://localhost:8080/"
    },
    "id": "PHIcwMJlZGGF",
    "outputId": "db6efa13-4c63-4b3c-b080-6afc9096b00c"
   },
   "outputs": [
    {
     "data": {
      "text/plain": [
       "array([[3, 4],\n",
       "       [5, 6]])"
      ]
     },
     "execution_count": 129,
     "metadata": {},
     "output_type": "execute_result"
    }
   ],
   "source": [
    "# Select all elements starting from 2nd row till the end\n",
    "elements_from_2nd_row = data[1:, :]\n",
    "elements_from_2nd_row"
   ]
  },
  {
   "cell_type": "code",
   "execution_count": 130,
   "metadata": {
    "colab": {
     "base_uri": "https://localhost:8080/"
    },
    "id": "yxO4nP5QZGGG",
    "outputId": "11cf3368-a4fb-48b4-b1cf-9edf5fb12c70"
   },
   "outputs": [
    {
     "data": {
      "text/plain": [
       "array([1, 2])"
      ]
     },
     "execution_count": 130,
     "metadata": {},
     "output_type": "execute_result"
    }
   ],
   "source": [
    "# Select 1st and secomnd elemnts in the 1st row\n",
    "first_two_elements_first_row = data[0, :2]\n",
    "first_two_elements_first_row"
   ]
  },
  {
   "cell_type": "markdown",
   "metadata": {
    "id": "gzoebonCZGGH"
   },
   "source": [
    "You can aggregate matrices the same way you aggregated vectors:\n",
    "\n",
    "**Try to**\n",
    "- Get `max`, `min`, and `sum`\n",
    "![alt_text](S1-pics\\agg.png)"
   ]
  },
  {
   "cell_type": "code",
   "execution_count": 131,
   "metadata": {
    "colab": {
     "base_uri": "https://localhost:8080/"
    },
    "id": "lPYcSGnqZGGH",
    "outputId": "527ef2c9-6b33-4c3c-938b-7d4b41029a7a"
   },
   "outputs": [
    {
     "data": {
      "text/plain": [
       "6"
      ]
     },
     "execution_count": 131,
     "metadata": {},
     "output_type": "execute_result"
    }
   ],
   "source": [
    "# max\n",
    "\n",
    "max_value = np.max(data)\n",
    "\n",
    "max_value"
   ]
  },
  {
   "cell_type": "code",
   "execution_count": 132,
   "metadata": {
    "colab": {
     "base_uri": "https://localhost:8080/"
    },
    "id": "M1ORvtOXZGGI",
    "outputId": "d06c0eaf-06cb-4e42-cdfb-a0f5ddd91492"
   },
   "outputs": [
    {
     "data": {
      "text/plain": [
       "1"
      ]
     },
     "execution_count": 132,
     "metadata": {},
     "output_type": "execute_result"
    }
   ],
   "source": [
    "# min\n",
    "min_value = np.min(data)\n",
    "min_value"
   ]
  },
  {
   "cell_type": "code",
   "execution_count": 133,
   "metadata": {
    "colab": {
     "base_uri": "https://localhost:8080/"
    },
    "id": "IbUckw2tZGGI",
    "outputId": "e28516eb-67c4-42f4-d18a-aff8516dac56"
   },
   "outputs": [
    {
     "data": {
      "text/plain": [
       "21"
      ]
     },
     "execution_count": 133,
     "metadata": {},
     "output_type": "execute_result"
    }
   ],
   "source": [
    "# sum\n",
    "sum_value = np.sum(data)\n",
    "sum_value"
   ]
  },
  {
   "cell_type": "markdown",
   "metadata": {
    "id": "G0HxgoYMZGGJ"
   },
   "source": [
    "You can aggregate all the values in a matrix and you can aggregate them across columns or rows using the `axis` parameter:\n",
    "    \n",
    "**Try to**\n",
    "- get `max` across both axes\n",
    "\n",
    "![alt_text](S1-pics\\axi-max.png)"
   ]
  },
  {
   "cell_type": "code",
   "execution_count": 134,
   "metadata": {
    "colab": {
     "base_uri": "https://localhost:8080/"
    },
    "id": "pGhr4yWrZGGJ",
    "outputId": "13e4ee11-2d3f-4d26-f018-4dd06c5e8b02"
   },
   "outputs": [
    {
     "data": {
      "text/plain": [
       "array([2, 4, 6])"
      ]
     },
     "execution_count": 134,
     "metadata": {},
     "output_type": "execute_result"
    }
   ],
   "source": [
    "# max across rows\n",
    "max_values_across_rows = np.amax(data, axis=1)\n",
    "max_values_across_rows"
   ]
  },
  {
   "cell_type": "code",
   "execution_count": 135,
   "metadata": {
    "colab": {
     "base_uri": "https://localhost:8080/"
    },
    "id": "GNFP9s0jZGGK",
    "outputId": "8b3d05c8-a086-45aa-a8b4-1bbce044c0e1"
   },
   "outputs": [
    {
     "data": {
      "text/plain": [
       "array([5, 6])"
      ]
     },
     "execution_count": 135,
     "metadata": {},
     "output_type": "execute_result"
    }
   ],
   "source": [
    "# max across columns\n",
    "max_values_across_rows = np.amax(data, axis=0)\n",
    "max_values_across_rows"
   ]
  },
  {
   "cell_type": "markdown",
   "metadata": {
    "id": "3rvRvj6nZGGK"
   },
   "source": [
    "### Adding matricies\n",
    "Once you’ve created your matrices, you can add and multiply them using arithmetic operators if you have two matrices that are the same size.\n",
    "\n",
    "![alt_text](S1-pics\\addmat.png)"
   ]
  },
  {
   "cell_type": "code",
   "execution_count": 136,
   "metadata": {
    "colab": {
     "base_uri": "https://localhost:8080/"
    },
    "id": "sXiFeKSNZGGK",
    "outputId": "aa03c78d-073c-4b20-d1bd-dc75590ef895"
   },
   "outputs": [
    {
     "data": {
      "text/plain": [
       "array([[2, 3],\n",
       "       [4, 5]])"
      ]
     },
     "execution_count": 136,
     "metadata": {},
     "output_type": "execute_result"
    }
   ],
   "source": [
    "data = np.array([[1, 2], [3, 4]])\n",
    "ones = np.array([[1, 1], [1, 1]])\n",
    "data + ones"
   ]
  },
  {
   "cell_type": "markdown",
   "metadata": {
    "id": "QUvLcfheZGGL"
   },
   "source": [
    "You can do these arithmetic operations on matrices of different sizes, but only if one matrix has only one column or one row. In this case, NumPy will use its broadcast rules for the operation.\n",
    "\n",
    "![alt_text](S1-pics\\addrow.png)"
   ]
  },
  {
   "cell_type": "code",
   "execution_count": 137,
   "metadata": {
    "colab": {
     "base_uri": "https://localhost:8080/"
    },
    "id": "KuNwenHFZGGL",
    "outputId": "6106a477-a9c4-4ca1-9cd0-ef068824c3bf"
   },
   "outputs": [
    {
     "data": {
      "text/plain": [
       "array([[2, 3],\n",
       "       [4, 5],\n",
       "       [6, 7]])"
      ]
     },
     "execution_count": 137,
     "metadata": {},
     "output_type": "execute_result"
    }
   ],
   "source": [
    "data = np.array([[1, 2], [3, 4], [5, 6]])\n",
    "ones_row = np.array([[1, 1]])\n",
    "data + ones_row"
   ]
  },
  {
   "cell_type": "markdown",
   "metadata": {
    "id": "yZvWvokmZGGM"
   },
   "source": [
    "Be aware that when NumPy prints N-dimensional arrays, the last axis is looped over the fastest while the first axis is the slowest. For instance:"
   ]
  },
  {
   "cell_type": "code",
   "execution_count": 138,
   "metadata": {
    "colab": {
     "base_uri": "https://localhost:8080/"
    },
    "id": "m4UV9pEWZGGM",
    "outputId": "c2bd5076-1b95-4637-f197-b80fc6ec233e"
   },
   "outputs": [
    {
     "data": {
      "text/plain": [
       "array([[[1., 1.],\n",
       "        [1., 1.],\n",
       "        [1., 1.]],\n",
       "\n",
       "       [[1., 1.],\n",
       "        [1., 1.],\n",
       "        [1., 1.]],\n",
       "\n",
       "       [[1., 1.],\n",
       "        [1., 1.],\n",
       "        [1., 1.]],\n",
       "\n",
       "       [[1., 1.],\n",
       "        [1., 1.],\n",
       "        [1., 1.]]])"
      ]
     },
     "execution_count": 138,
     "metadata": {},
     "output_type": "execute_result"
    }
   ],
   "source": [
    "np.ones((4, 3, 2))"
   ]
  },
  {
   "cell_type": "markdown",
   "metadata": {
    "id": "ylwXmI-nZGGN"
   },
   "source": [
    "There are often instances where we want NumPy to initialize the values of an array.\n",
    "\n",
    "NumPy offers functions like `ones()` and `zeros()`, and the `random.Generator` class for random number generation for that.\n",
    "\n",
    "All you need to do is pass in the number of elements you want it to generate:\n",
    "\n",
    "![alt_text](S1-pics\\10r.png)"
   ]
  },
  {
   "cell_type": "code",
   "execution_count": 139,
   "metadata": {
    "colab": {
     "base_uri": "https://localhost:8080/"
    },
    "id": "kGBvCRL8ZGGN",
    "outputId": "2ae7dbb8-d81e-4ffe-8f19-d1df111d52ed"
   },
   "outputs": [
    {
     "data": {
      "text/plain": [
       "array([1., 1., 1.])"
      ]
     },
     "execution_count": 139,
     "metadata": {},
     "output_type": "execute_result"
    }
   ],
   "source": [
    "np.ones(3)"
   ]
  },
  {
   "cell_type": "code",
   "execution_count": 140,
   "metadata": {
    "colab": {
     "base_uri": "https://localhost:8080/"
    },
    "id": "SGeNxgpeZGGO",
    "outputId": "7a565250-db98-4877-cadd-3f5dd1e1822d"
   },
   "outputs": [
    {
     "data": {
      "text/plain": [
       "array([0., 0., 0.])"
      ]
     },
     "execution_count": 140,
     "metadata": {},
     "output_type": "execute_result"
    }
   ],
   "source": [
    "np.zeros(3)"
   ]
  },
  {
   "cell_type": "code",
   "execution_count": 141,
   "metadata": {
    "colab": {
     "base_uri": "https://localhost:8080/"
    },
    "id": "wx0AvcwhZGGO",
    "outputId": "90d88721-1988-4272-c4f0-c48c509abdb6"
   },
   "outputs": [
    {
     "data": {
      "text/plain": [
       "array([0.63696169, 0.26978671, 0.04097352])"
      ]
     },
     "execution_count": 141,
     "metadata": {},
     "output_type": "execute_result"
    }
   ],
   "source": [
    "# the simplest way to generate random numbers\n",
    "rng = np.random.default_rng(0)\n",
    "rng.random(3)"
   ]
  },
  {
   "cell_type": "markdown",
   "metadata": {
    "id": "I6H-AaZPZGGP"
   },
   "source": [
    "---\n",
    "You can also use `ones()`, `zeros()`, and `random()` to create a `2D array` if you give them a `tuple` describing the dimensions of the matrix:\n",
    "![alt_text](S1-pics\\tuple.png)"
   ]
  },
  {
   "cell_type": "code",
   "execution_count": 142,
   "metadata": {
    "colab": {
     "base_uri": "https://localhost:8080/"
    },
    "id": "oANzgwuZZGGP",
    "outputId": "9ad636b8-4728-4b79-e8cb-c910af060ddf"
   },
   "outputs": [
    {
     "data": {
      "text/plain": [
       "array([[1., 1.],\n",
       "       [1., 1.],\n",
       "       [1., 1.]])"
      ]
     },
     "execution_count": 142,
     "metadata": {},
     "output_type": "execute_result"
    }
   ],
   "source": [
    "np.ones((3, 2))"
   ]
  },
  {
   "cell_type": "code",
   "execution_count": 143,
   "metadata": {
    "colab": {
     "base_uri": "https://localhost:8080/"
    },
    "id": "kN2dnXOuZGGR",
    "outputId": "031f8aea-ef04-4c45-bf98-083531374945"
   },
   "outputs": [
    {
     "data": {
      "text/plain": [
       "array([[0., 0.],\n",
       "       [0., 0.],\n",
       "       [0., 0.]])"
      ]
     },
     "execution_count": 143,
     "metadata": {},
     "output_type": "execute_result"
    }
   ],
   "source": [
    "np.zeros((3, 2))"
   ]
  },
  {
   "cell_type": "code",
   "execution_count": 144,
   "metadata": {
    "colab": {
     "base_uri": "https://localhost:8080/"
    },
    "id": "ZTncCvfhZGGR",
    "outputId": "b3d2948d-863a-43e2-8bd2-ae5441af3bc3"
   },
   "outputs": [
    {
     "data": {
      "text/plain": [
       "array([[0.01652764, 0.81327024],\n",
       "       [0.91275558, 0.60663578],\n",
       "       [0.72949656, 0.54362499]])"
      ]
     },
     "execution_count": 144,
     "metadata": {},
     "output_type": "execute_result"
    }
   ],
   "source": [
    "rng.random((3, 2))"
   ]
  },
  {
   "cell_type": "markdown",
   "metadata": {
    "id": "RsxmTsHRZGGS"
   },
   "source": [
    "---\n",
    "# Section 4: Generating random numbers\n",
    "The use of random number generation is an important part of the configuration and evaluation of many numerical and machine learning algorithms.\n",
    "\n",
    "Whether you need to **randomly initialize weights** in an artificial neural network, **split data into random sets**, or **randomly shuffle your dataset**, being able to generate random numbers (actually, repeatable pseudo-random numbers) is essential.\n",
    "\n",
    "With `Generator.integers`, you can generate random integers from low (remember that this is inclusive with NumPy) to high (exclusive). You can set `endpoint=True` to make the high number inclusive.\n",
    "\n",
    "You can generate a `2 x 4 array` of random integers between `0 and 4` with:"
   ]
  },
  {
   "cell_type": "code",
   "execution_count": 145,
   "metadata": {
    "colab": {
     "base_uri": "https://localhost:8080/"
    },
    "id": "bCMbDAikZGGS",
    "outputId": "4ffe4210-ecbc-4c95-d278-729430f52753"
   },
   "outputs": [
    {
     "data": {
      "text/plain": [
       "array([[2, 4, 1, 4],\n",
       "       [3, 0, 1, 4]])"
      ]
     },
     "execution_count": 145,
     "metadata": {},
     "output_type": "execute_result"
    }
   ],
   "source": [
    "rng.integers(5, size=(2, 4))"
   ]
  },
  {
   "cell_type": "markdown",
   "metadata": {
    "id": "ij442nFkZGGT"
   },
   "source": [
    "**[Read more about random number generation here.](https://numpy.org/doc/stable/reference/random/index.html#numpyrandom)**"
   ]
  },
  {
   "cell_type": "markdown",
   "metadata": {
    "id": "mR2UV9ETZGGT"
   },
   "source": [
    "---\n",
    "# Section 5: How to get unique items and counts\n",
    "\n",
    "*This section covers `np.unique()`*\n",
    "\n",
    "---\n",
    "You can find the unique elements in an array easily with `np.unique`.\n",
    "\n",
    "**For example**, if you start with this array:"
   ]
  },
  {
   "cell_type": "code",
   "execution_count": 146,
   "metadata": {
    "id": "e5NE-W1jZGGU"
   },
   "outputs": [],
   "source": [
    "a = np.array([11, 11, 12, 13, 14, 15, 16, 17, 12, 13, 11, 14, 18, 19, 20])"
   ]
  },
  {
   "cell_type": "markdown",
   "metadata": {
    "id": "oD1VBSZFZGGU"
   },
   "source": [
    "you can use `np.unique` to print the unique values in your array:"
   ]
  },
  {
   "cell_type": "code",
   "execution_count": 147,
   "metadata": {
    "colab": {
     "base_uri": "https://localhost:8080/"
    },
    "id": "NbuSljm8ZGGV",
    "outputId": "0175a6ae-ef8d-4c5d-d6ed-cd73934edea2"
   },
   "outputs": [
    {
     "data": {
      "text/plain": [
       "array([11, 12, 13, 14, 15, 16, 17, 18, 19, 20])"
      ]
     },
     "execution_count": 147,
     "metadata": {},
     "output_type": "execute_result"
    }
   ],
   "source": [
    "unique_values = np.unique(a)\n",
    "unique_values"
   ]
  },
  {
   "cell_type": "markdown",
   "metadata": {
    "id": "rWzyukzVZGGV"
   },
   "source": [
    "---\n",
    "To get the `indices` of unique values in a NumPy array (an array of ***first index positions*** of unique values in the array), just set the `return_index` argument as `True` in `np.unique()` as well as your array.\n",
    "\n",
    "**Try it**"
   ]
  },
  {
   "cell_type": "code",
   "execution_count": 148,
   "metadata": {
    "colab": {
     "base_uri": "https://localhost:8080/"
    },
    "id": "ylNP0niVZGGW",
    "outputId": "26205c6d-e9b0-4a70-fced-0f7c20d45a8a"
   },
   "outputs": [
    {
     "data": {
      "text/plain": [
       "array([ 0,  2,  3,  4,  5,  6,  7, 12, 13, 14])"
      ]
     },
     "execution_count": 148,
     "metadata": {},
     "output_type": "execute_result"
    }
   ],
   "source": [
    "# Code here\n",
    "unique_values, indices_list =np.unique(a, return_index=True)\n",
    "indices_list"
   ]
  },
  {
   "cell_type": "markdown",
   "metadata": {
    "id": "82cjHiYyZGGW"
   },
   "source": [
    "---\n",
    "You can pass the `return_counts` argument in `np.unique()` along with your array to get the frequency `count` of unique values in a NumPy array.\n",
    "\n",
    "**Try It**"
   ]
  },
  {
   "cell_type": "code",
   "execution_count": 149,
   "metadata": {
    "colab": {
     "base_uri": "https://localhost:8080/"
    },
    "id": "d5f0or8_ZGGX",
    "outputId": "292233c3-d79b-41aa-fc7c-4ecdce284fc3"
   },
   "outputs": [
    {
     "data": {
      "text/plain": [
       "array([3, 2, 2, 2, 1, 1, 1, 1, 1, 1])"
      ]
     },
     "execution_count": 149,
     "metadata": {},
     "output_type": "execute_result"
    }
   ],
   "source": [
    "# Code here\n",
    "unique_values, occurrence_count =np.unique(a, return_counts=True)\n",
    "occurrence_count"
   ]
  },
  {
   "cell_type": "markdown",
   "metadata": {
    "id": "rrw7K7WkZGGX"
   },
   "source": [
    "---\n",
    "This also works with 2D arrays! If you start with this array:"
   ]
  },
  {
   "cell_type": "code",
   "execution_count": 150,
   "metadata": {
    "colab": {
     "base_uri": "https://localhost:8080/"
    },
    "id": "QgR2kQaRZGGY",
    "outputId": "e39bd248-3d65-4dfc-fb46-2281f81a964f"
   },
   "outputs": [
    {
     "data": {
      "text/plain": [
       "array([[ 1,  2,  3,  4],\n",
       "       [ 5,  6,  7,  8],\n",
       "       [ 9, 10, 11, 12],\n",
       "       [ 1,  2,  3,  4]])"
      ]
     },
     "execution_count": 150,
     "metadata": {},
     "output_type": "execute_result"
    }
   ],
   "source": [
    "a_2d = np.array([[1, 2, 3, 4], [5, 6, 7, 8], [9, 10, 11, 12], [1, 2, 3, 4]])\n",
    "a_2d"
   ]
  },
  {
   "cell_type": "code",
   "execution_count": 151,
   "metadata": {
    "colab": {
     "base_uri": "https://localhost:8080/"
    },
    "id": "Hr1g-OOlZGGY",
    "outputId": "108fe10e-cc19-472e-9329-28359a7b180f"
   },
   "outputs": [
    {
     "data": {
      "text/plain": [
       "array([ 1,  2,  3,  4,  5,  6,  7,  8,  9, 10, 11, 12])"
      ]
     },
     "execution_count": 151,
     "metadata": {},
     "output_type": "execute_result"
    }
   ],
   "source": [
    "unique_values = np.unique(a_2d)\n",
    "unique_values"
   ]
  },
  {
   "cell_type": "markdown",
   "metadata": {
    "id": "nPVpWCG8ZGGZ"
   },
   "source": [
    "> If the axis argument isn’t passed, your 2D array will be flattened.\n",
    "---\n",
    "\n",
    "If you want to get the `unique rows or columns`, make sure to pass the `axis` argument. To find the unique rows, specify `axis=0` and for columns, specify `axis=1`.\n",
    "\n",
    "**Like this**"
   ]
  },
  {
   "cell_type": "code",
   "execution_count": 152,
   "metadata": {
    "colab": {
     "base_uri": "https://localhost:8080/"
    },
    "id": "iV-7WHOoZGGZ",
    "outputId": "963ae59d-2545-45c1-d6dd-f70d3727586a"
   },
   "outputs": [
    {
     "data": {
      "text/plain": [
       "array([[ 1,  2,  3,  4],\n",
       "       [ 5,  6,  7,  8],\n",
       "       [ 9, 10, 11, 12]])"
      ]
     },
     "execution_count": 152,
     "metadata": {},
     "output_type": "execute_result"
    }
   ],
   "source": [
    "unique_rows = np.unique(a_2d, axis=0)\n",
    "unique_rows"
   ]
  },
  {
   "cell_type": "markdown",
   "metadata": {
    "id": "T8n02aHgZGGZ"
   },
   "source": [
    "---\n",
    "**Try this**\n",
    "- To get the unique rows, index position, and occurrence count, you can use:"
   ]
  },
  {
   "cell_type": "code",
   "execution_count": 153,
   "metadata": {
    "colab": {
     "base_uri": "https://localhost:8080/"
    },
    "id": "XmnGud6RZGGa",
    "outputId": "c3778438-96d1-4453-c2eb-f9fbe0aeeae2"
   },
   "outputs": [
    {
     "name": "stdout",
     "output_type": "stream",
     "text": [
      "[[1 2]\n",
      " [3 4]\n",
      " [5 6]]\n",
      "[0 1 2]\n",
      "[1 1 1]\n"
     ]
    }
   ],
   "source": [
    "# code here\n",
    "unique_rows, indices, occurrence_count = np.unique(data, axis=0, return_index=True, return_counts=True)\n",
    "print(unique_rows)\n",
    "print(indices)\n",
    "print(occurrence_count)"
   ]
  },
  {
   "cell_type": "markdown",
   "metadata": {
    "id": "vLsjvkyVZGGa"
   },
   "source": [
    "**[Learn more about `numpy.unique` here.](https://numpy.org/doc/stable/reference/generated/numpy.unique.html#numpy.unique)**"
   ]
  },
  {
   "cell_type": "markdown",
   "metadata": {
    "id": "tXFAXFZNZGGa"
   },
   "source": [
    "---\n",
    "# Section 6: Transposing and reshaping a matrix\n",
    "*This section covers `arr.reshape()`, `arr.transpose()`, `arr.T`*\n",
    "\n",
    "It’s common to need to transpose your matrices. NumPy arrays have the property `T` that allows you to transpose a matrix.\n",
    "\n",
    "![alt_text](S1-pics\\t1.png)\n",
    "\n",
    "You may also need to `switch the dimensions` of a matrix.\n",
    "\n",
    ">This can happen when, for example, you have a model that expects a certain input shape that is different from your dataset.\n",
    "\n",
    "This is where the reshape method can be useful. You simply need to pass in the new dimensions that you want for the matrix."
   ]
  },
  {
   "cell_type": "code",
   "execution_count": 154,
   "metadata": {
    "colab": {
     "base_uri": "https://localhost:8080/"
    },
    "id": "lNLJQX-EZGGb",
    "outputId": "76146011-dbbf-48c3-fc05-d2cf45375ee0"
   },
   "outputs": [
    {
     "data": {
      "text/plain": [
       "array([1, 2, 3, 4, 5, 6])"
      ]
     },
     "execution_count": 154,
     "metadata": {},
     "output_type": "execute_result"
    }
   ],
   "source": [
    "data = np.arange(1,7)\n",
    "data"
   ]
  },
  {
   "cell_type": "code",
   "execution_count": 155,
   "metadata": {
    "colab": {
     "base_uri": "https://localhost:8080/"
    },
    "id": "Jei7aKLvZGGb",
    "outputId": "d6db5884-8a2d-4691-c34b-9a0f68271afc"
   },
   "outputs": [
    {
     "data": {
      "text/plain": [
       "array([[1, 2, 3],\n",
       "       [4, 5, 6]])"
      ]
     },
     "execution_count": 155,
     "metadata": {},
     "output_type": "execute_result"
    }
   ],
   "source": [
    "data.reshape(2, 3)"
   ]
  },
  {
   "cell_type": "code",
   "execution_count": 156,
   "metadata": {
    "colab": {
     "base_uri": "https://localhost:8080/"
    },
    "id": "lFw9bEfqZGGb",
    "outputId": "c6cfdddb-99b4-467f-cc18-3e11fdd58884"
   },
   "outputs": [
    {
     "data": {
      "text/plain": [
       "array([[1, 2],\n",
       "       [3, 4],\n",
       "       [5, 6]])"
      ]
     },
     "execution_count": 156,
     "metadata": {},
     "output_type": "execute_result"
    }
   ],
   "source": [
    "data.reshape(3, 2)"
   ]
  },
  {
   "cell_type": "markdown",
   "metadata": {
    "id": "UlHEHHx_ZGGc"
   },
   "source": [
    "\n",
    "![alt_text](S1-pics\\t2.png)\n",
    "\n",
    "You can also use `.transpose()` to reverse or change the axes of an array according to the values you specify.\n",
    "\n",
    "If you start with this array:"
   ]
  },
  {
   "cell_type": "code",
   "execution_count": 157,
   "metadata": {
    "colab": {
     "base_uri": "https://localhost:8080/"
    },
    "id": "ZqGdaHdrZGGc",
    "outputId": "10591ac9-903f-41a6-9505-5749ef590d1e"
   },
   "outputs": [
    {
     "data": {
      "text/plain": [
       "array([[0, 1, 2],\n",
       "       [3, 4, 5]])"
      ]
     },
     "execution_count": 157,
     "metadata": {},
     "output_type": "execute_result"
    }
   ],
   "source": [
    "arr = np.arange(6).reshape((2, 3))\n",
    "arr"
   ]
  },
  {
   "cell_type": "markdown",
   "metadata": {
    "id": "YTMpolnzZGGc"
   },
   "source": [
    "You can transpose your array with `arr.transpose()`."
   ]
  },
  {
   "cell_type": "code",
   "execution_count": 158,
   "metadata": {
    "colab": {
     "base_uri": "https://localhost:8080/"
    },
    "id": "fRmackFLZGGd",
    "outputId": "d5b229c3-4714-40ee-9432-ecd52d7a31e8"
   },
   "outputs": [
    {
     "data": {
      "text/plain": [
       "array([[0, 3],\n",
       "       [1, 4],\n",
       "       [2, 5]])"
      ]
     },
     "execution_count": 158,
     "metadata": {},
     "output_type": "execute_result"
    }
   ],
   "source": [
    "arr.transpose()"
   ]
  },
  {
   "cell_type": "markdown",
   "metadata": {
    "id": "o1B1pgixZGGd"
   },
   "source": [
    "You can also use `arr.T`:"
   ]
  },
  {
   "cell_type": "code",
   "execution_count": 159,
   "metadata": {
    "colab": {
     "base_uri": "https://localhost:8080/"
    },
    "id": "FaMhv7XHZGGd",
    "outputId": "4f09d006-80ba-4106-e091-0cbb31a7591a"
   },
   "outputs": [
    {
     "data": {
      "text/plain": [
       "array([[0, 3],\n",
       "       [1, 4],\n",
       "       [2, 5]])"
      ]
     },
     "execution_count": 159,
     "metadata": {},
     "output_type": "execute_result"
    }
   ],
   "source": [
    "arr.T"
   ]
  },
  {
   "cell_type": "markdown",
   "metadata": {
    "id": "1pzPvgqmZGGe"
   },
   "source": [
    "**To learn more about transposing and reshaping arrays, see [transpose](https://numpy.org/doc/stable/reference/generated/numpy.transpose.html#numpy.transpose) and [reshape](https://numpy.org/doc/stable/reference/generated/numpy.reshape.html#numpy.reshape).**"
   ]
  },
  {
   "cell_type": "markdown",
   "metadata": {
    "id": "0V1oEwXpZGGe"
   },
   "source": [
    "---\n",
    "# Section 7: How to reverse an array\n",
    "*This section covers `np.flip()`*\n",
    "\n",
    "---\n",
    "NumPy’s `np.flip()` function allows you to ***flip, or reverse***, the contents of an array along an axis.\n",
    "\n",
    "- When using `np.flip()`, specify the array you would like to reverse and the `axis`.\n",
    "- If you don’t specify the axis, NumPy will reverse the contents along all of the axes of your input array.\n",
    "\n",
    "### Reversing a 1D array\n",
    "\n",
    "If you begin with a 1D array like this one:"
   ]
  },
  {
   "cell_type": "code",
   "execution_count": 160,
   "metadata": {
    "id": "m0xdemxeZGGe",
    "outputId": "ddeb18b1-352e-4c01-ffe1-8649e726fdb9"
   },
   "outputs": [
    {
     "data": {
      "text/plain": [
       "array([1, 2, 3, 4, 5, 6, 7, 8])"
      ]
     },
     "execution_count": 160,
     "metadata": {},
     "output_type": "execute_result"
    }
   ],
   "source": [
    "arr = np.array([1, 2, 3, 4, 5, 6, 7, 8])\n",
    "arr"
   ]
  },
  {
   "cell_type": "code",
   "execution_count": 161,
   "metadata": {
    "colab": {
     "base_uri": "https://localhost:8080/"
    },
    "id": "Carv676qZGGf",
    "outputId": "1b0d49c2-a38c-4987-f1dc-f985a89c018a"
   },
   "outputs": [
    {
     "data": {
      "text/plain": [
       "array([8, 7, 6, 5, 4, 3, 2, 1])"
      ]
     },
     "execution_count": 161,
     "metadata": {},
     "output_type": "execute_result"
    }
   ],
   "source": [
    "# You can reverse it with:\n",
    "reversed_arr = np.flip(arr)\n",
    "reversed_arr"
   ]
  },
  {
   "cell_type": "markdown",
   "metadata": {
    "id": "WXUhRsicZGGf"
   },
   "source": [
    "---\n",
    "### Reversing a 2D array\n",
    "\n",
    "A 2D array works much the same way.\n",
    "\n",
    "If you start with this array:"
   ]
  },
  {
   "cell_type": "code",
   "execution_count": 162,
   "metadata": {
    "colab": {
     "base_uri": "https://localhost:8080/"
    },
    "id": "poQw6KXdZGGf",
    "outputId": "539ad338-e6f5-4cb2-cabd-cbd4fdf5bd9d"
   },
   "outputs": [
    {
     "data": {
      "text/plain": [
       "array([[ 1,  2,  3,  4],\n",
       "       [ 5,  6,  7,  8],\n",
       "       [ 9, 10, 11, 12]])"
      ]
     },
     "execution_count": 162,
     "metadata": {},
     "output_type": "execute_result"
    }
   ],
   "source": [
    "arr_2d = np.array([[1, 2, 3, 4], [5, 6, 7, 8], [9, 10, 11, 12]])\n",
    "arr_2d"
   ]
  },
  {
   "cell_type": "code",
   "execution_count": 163,
   "metadata": {
    "colab": {
     "base_uri": "https://localhost:8080/"
    },
    "id": "4GpT_QFtZGGg",
    "outputId": "e5c8fef3-15d0-44ae-d03e-cc61be70b408"
   },
   "outputs": [
    {
     "data": {
      "text/plain": [
       "array([[12, 11, 10,  9],\n",
       "       [ 8,  7,  6,  5],\n",
       "       [ 4,  3,  2,  1]])"
      ]
     },
     "execution_count": 163,
     "metadata": {},
     "output_type": "execute_result"
    }
   ],
   "source": [
    "# You can reverse the content in all of the rows and all of the columns with:\n",
    "reversed_arr = np.flip(arr_2d)\n",
    "reversed_arr"
   ]
  },
  {
   "cell_type": "code",
   "execution_count": 164,
   "metadata": {
    "colab": {
     "base_uri": "https://localhost:8080/"
    },
    "id": "CSC0pyY-ZGGh",
    "outputId": "c697abcf-8e74-4dd3-8291-01f9ced50697"
   },
   "outputs": [
    {
     "data": {
      "text/plain": [
       "array([[ 9, 10, 11, 12],\n",
       "       [ 5,  6,  7,  8],\n",
       "       [ 1,  2,  3,  4]])"
      ]
     },
     "execution_count": 164,
     "metadata": {},
     "output_type": "execute_result"
    }
   ],
   "source": [
    "# You can easily reverse only the rows with:\n",
    "reversed_arr_rows = np.flip(arr_2d, axis=0)\n",
    "reversed_arr_rows"
   ]
  },
  {
   "cell_type": "code",
   "execution_count": 165,
   "metadata": {
    "colab": {
     "base_uri": "https://localhost:8080/"
    },
    "id": "i25NzJi4ZGGi",
    "outputId": "735b35bd-2bb9-47cf-b35b-1afd72fa5c96"
   },
   "outputs": [
    {
     "data": {
      "text/plain": [
       "array([[ 4,  3,  2,  1],\n",
       "       [ 8,  7,  6,  5],\n",
       "       [12, 11, 10,  9]])"
      ]
     },
     "execution_count": 165,
     "metadata": {},
     "output_type": "execute_result"
    }
   ],
   "source": [
    "# Or reverse only the columns with:\n",
    "reversed_arr_columns = np.flip(arr_2d, axis=1)\n",
    "reversed_arr_columns"
   ]
  },
  {
   "cell_type": "markdown",
   "metadata": {
    "id": "EJiHKVFBZGGi"
   },
   "source": [
    ">You can also reverse the contents of only one column or row. For example, you can reverse the contents of the row at index position 1 (the second row):\n"
   ]
  },
  {
   "cell_type": "code",
   "execution_count": 166,
   "metadata": {
    "colab": {
     "base_uri": "https://localhost:8080/"
    },
    "id": "ktKDsVJaZGGi",
    "outputId": "54e6a24e-4b8a-4a35-c72e-8fcd144380a2"
   },
   "outputs": [
    {
     "data": {
      "text/plain": [
       "array([[ 1,  2,  3,  4],\n",
       "       [ 8,  7,  6,  5],\n",
       "       [ 9, 10, 11, 12]])"
      ]
     },
     "execution_count": 166,
     "metadata": {},
     "output_type": "execute_result"
    }
   ],
   "source": [
    "arr_2d[1] = np.flip(arr_2d[1])\n",
    "arr_2d"
   ]
  },
  {
   "cell_type": "markdown",
   "metadata": {
    "id": "u4QZQ5uYZGGj"
   },
   "source": [
    ">You can also reverse the column at index position 1 (the second column):"
   ]
  },
  {
   "cell_type": "code",
   "execution_count": 167,
   "metadata": {
    "colab": {
     "base_uri": "https://localhost:8080/"
    },
    "id": "VLVhxmb9ZGGj",
    "outputId": "d342af72-c03a-43d9-d6bc-a75c601a9f5c"
   },
   "outputs": [
    {
     "data": {
      "text/plain": [
       "array([[ 1, 10,  3,  4],\n",
       "       [ 8,  7,  6,  5],\n",
       "       [ 9,  2, 11, 12]])"
      ]
     },
     "execution_count": 167,
     "metadata": {},
     "output_type": "execute_result"
    }
   ],
   "source": [
    "arr_2d[:,1] = np.flip(arr_2d[:,1])\n",
    "arr_2d"
   ]
  },
  {
   "cell_type": "markdown",
   "metadata": {
    "id": "Foao1-U_ZGGk"
   },
   "source": [
    "**Read more about reversing arrays at [flip](https://numpy.org/doc/stable/reference/generated/numpy.flip.html#numpy.flip).**"
   ]
  },
  {
   "cell_type": "markdown",
   "metadata": {
    "id": "6B8HXWvWZGGk"
   },
   "source": [
    "---\n",
    "# Section 9: Reshaping and flattening multidimensional arrays\n",
    "*This section covers `.flatten()`, `ravel()`*\n",
    "\n",
    "There are two popular ways to flatten an array: `.flatten()` and `.ravel()`.\n",
    "\n",
    ">The primary difference between the two is that ***the new array created using ravel() is actually a reference to the parent array (i.e., a “view”)***.\n",
    "\n",
    "This means that any changes to the new array will affect the parent array as well. Since ravel does not create a copy, it’s memory efficient.\n",
    "\n",
    "If you start with this array:"
   ]
  },
  {
   "cell_type": "code",
   "execution_count": 168,
   "metadata": {
    "colab": {
     "base_uri": "https://localhost:8080/"
    },
    "id": "0o2THEhlZGGk",
    "outputId": "c8900cf6-9cd4-4869-f7c8-a4734916b1be"
   },
   "outputs": [
    {
     "data": {
      "text/plain": [
       "array([[ 1,  2,  3,  4],\n",
       "       [ 5,  6,  7,  8],\n",
       "       [ 9, 10, 11, 12]])"
      ]
     },
     "execution_count": 168,
     "metadata": {},
     "output_type": "execute_result"
    }
   ],
   "source": [
    "x = np.array([[1 , 2, 3, 4], [5, 6, 7, 8], [9, 10, 11, 12]])\n",
    "x"
   ]
  },
  {
   "cell_type": "markdown",
   "metadata": {
    "id": "zusruvt8ZGGl"
   },
   "source": [
    "**Try to**\n",
    "- Use `flatten` to flatten your array into a 1D array."
   ]
  },
  {
   "cell_type": "code",
   "execution_count": 169,
   "metadata": {
    "colab": {
     "base_uri": "https://localhost:8080/"
    },
    "id": "adF5MOeiZGGl",
    "outputId": "802a67f8-fa91-4dd1-9ea7-5f12e161210c"
   },
   "outputs": [
    {
     "data": {
      "text/plain": [
       "array([ 1,  2,  3,  4,  5,  6,  7,  8,  9, 10, 11, 12])"
      ]
     },
     "execution_count": 169,
     "metadata": {},
     "output_type": "execute_result"
    }
   ],
   "source": [
    "# Code here\n",
    "x.flatten()"
   ]
  },
  {
   "cell_type": "markdown",
   "metadata": {
    "id": "1yKVGC-WZGGl"
   },
   "source": [
    "> **Note that:** When you use `flatten`, changes to your new array won’t change the parent array.\n",
    "\n",
    "For example:"
   ]
  },
  {
   "cell_type": "code",
   "execution_count": 170,
   "metadata": {
    "colab": {
     "base_uri": "https://localhost:8080/"
    },
    "id": "6kFqnWViZGGm",
    "outputId": "9c52fd82-86a0-417a-c235-fa0c15b78e3e"
   },
   "outputs": [
    {
     "data": {
      "text/plain": [
       "array([ 1,  2,  3,  4,  5,  6,  7,  8,  9, 10, 11, 12])"
      ]
     },
     "execution_count": 170,
     "metadata": {},
     "output_type": "execute_result"
    }
   ],
   "source": [
    "a1 = x.flatten()\n",
    "a1"
   ]
  },
  {
   "cell_type": "code",
   "execution_count": 171,
   "metadata": {
    "id": "lDMf-fSaZGGm"
   },
   "outputs": [],
   "source": [
    "a1[0] = 99"
   ]
  },
  {
   "cell_type": "code",
   "execution_count": 172,
   "metadata": {
    "colab": {
     "base_uri": "https://localhost:8080/"
    },
    "id": "YaCQqwVQZGGm",
    "outputId": "ee0f7b8f-af49-49b3-e84a-1adba8a8ad9a"
   },
   "outputs": [
    {
     "name": "stdout",
     "output_type": "stream",
     "text": [
      "[[ 1  2  3  4]\n",
      " [ 5  6  7  8]\n",
      " [ 9 10 11 12]]\n"
     ]
    }
   ],
   "source": [
    "print(x)  # Original array"
   ]
  },
  {
   "cell_type": "code",
   "execution_count": 173,
   "metadata": {
    "colab": {
     "base_uri": "https://localhost:8080/"
    },
    "id": "K51aYZ0lZGGn",
    "outputId": "26bee196-0d0f-42d4-cccf-95acc6298cad"
   },
   "outputs": [
    {
     "name": "stdout",
     "output_type": "stream",
     "text": [
      "[99  2  3  4  5  6  7  8  9 10 11 12]\n"
     ]
    }
   ],
   "source": [
    "print(a1)  # New array"
   ]
  },
  {
   "cell_type": "markdown",
   "metadata": {
    "id": "PpoXAisiZGGn"
   },
   "source": [
    ">**BUT**: But when you use `ravel`, the changes you make to the new array will affect the parent array.\n",
    "\n",
    "For example:"
   ]
  },
  {
   "cell_type": "code",
   "execution_count": 174,
   "metadata": {
    "colab": {
     "base_uri": "https://localhost:8080/"
    },
    "id": "4VUuN0zIZGGo",
    "outputId": "bb2787df-a19a-48a8-903e-c93cb9520c6b"
   },
   "outputs": [
    {
     "data": {
      "text/plain": [
       "array([ 1,  2,  3,  4,  5,  6,  7,  8,  9, 10, 11, 12])"
      ]
     },
     "execution_count": 174,
     "metadata": {},
     "output_type": "execute_result"
    }
   ],
   "source": [
    "a2 = x.ravel()\n",
    "a2"
   ]
  },
  {
   "cell_type": "code",
   "execution_count": 175,
   "metadata": {
    "id": "CoEMP-_mZGGo"
   },
   "outputs": [],
   "source": [
    "a2[0] = 98"
   ]
  },
  {
   "cell_type": "code",
   "execution_count": 176,
   "metadata": {
    "colab": {
     "base_uri": "https://localhost:8080/"
    },
    "id": "Hxy5g-zrZGGo",
    "outputId": "3a9288ec-e201-419e-a123-1f60002ebfc3"
   },
   "outputs": [
    {
     "name": "stdout",
     "output_type": "stream",
     "text": [
      "[[98  2  3  4]\n",
      " [ 5  6  7  8]\n",
      " [ 9 10 11 12]]\n"
     ]
    }
   ],
   "source": [
    "print(x)  # Original array"
   ]
  },
  {
   "cell_type": "code",
   "execution_count": 177,
   "metadata": {
    "colab": {
     "base_uri": "https://localhost:8080/"
    },
    "id": "nZyVX8KHZGGp",
    "outputId": "3282211f-b41a-427f-be30-46e9529b02a7"
   },
   "outputs": [
    {
     "name": "stdout",
     "output_type": "stream",
     "text": [
      "[98  2  3  4  5  6  7  8  9 10 11 12]\n"
     ]
    }
   ],
   "source": [
    "print(a2)  # New array"
   ]
  },
  {
   "cell_type": "markdown",
   "metadata": {
    "id": "ukWLO47EZGGp"
   },
   "source": [
    "**Read more about `flatten` at [ndarray.flatten](https://numpy.org/doc/stable/reference/generated/numpy.ndarray.flatten.html#numpy.ndarray.flatten) and `ravel` at [ravel](https://numpy.org/doc/stable/reference/generated/numpy.ravel.html#numpy.ravel).**"
   ]
  },
  {
   "cell_type": "markdown",
   "metadata": {
    "id": "dylp4ZNeZGGq"
   },
   "source": [
    "---\n",
    "# Section 10: How to access the docstring for more information\n",
    "*This section covers `help()`, `?`, `??`*\n",
    "\n",
    "---\n",
    "\n",
    "When it comes to the data science ecosystem, Python and NumPy are built with the user in mind. One of the best examples of this is the built-in access to documentation.\n",
    "\n",
    "Every object contains the reference to a string, which is known as the `docstring`.\n",
    "\n",
    "In most cases, this `docstring` contains a quick and concise `summary of the object` and `how to use it`.\n",
    "\n",
    "Python has a built-in `help()` function that can help you access this information.\n",
    "\n",
    "This means that nearly any time you need more information, you can use `help()` to quickly find the information that you need.\n",
    "\n",
    "**For example:**"
   ]
  },
  {
   "cell_type": "code",
   "execution_count": 178,
   "metadata": {
    "colab": {
     "base_uri": "https://localhost:8080/"
    },
    "id": "ZFNxiyQDZGGq",
    "outputId": "fc57f7ad-f13d-4623-87a1-d1c42e45cacd"
   },
   "outputs": [
    {
     "name": "stdout",
     "output_type": "stream",
     "text": [
      "Help on built-in function max in module builtins:\n",
      "\n",
      "max(...)\n",
      "    max(iterable, *[, default=obj, key=func]) -> value\n",
      "    max(arg1, arg2, *args, *[, key=func]) -> value\n",
      "    \n",
      "    With a single iterable argument, return its biggest item. The\n",
      "    default keyword-only argument specifies an object to return if\n",
      "    the provided iterable is empty.\n",
      "    With two or more arguments, return the largest argument.\n",
      "\n"
     ]
    }
   ],
   "source": [
    "help(max)"
   ]
  },
  {
   "cell_type": "markdown",
   "metadata": {
    "id": "PT3pJkGmZGGr"
   },
   "source": [
    "Because access to additional information is so useful, **IPython** uses the `?` character as a shorthand for accessing this documentation along with other relevant information.\n",
    "\n",
    "**IPython** is a command shell for interactive computing in multiple languages. **[You can find more information about IPython here](https://ipython.org/)**.\n",
    "\n",
    "**For example:**"
   ]
  },
  {
   "cell_type": "code",
   "execution_count": 179,
   "metadata": {
    "id": "a5VfUhsCZGGr"
   },
   "outputs": [
    {
     "data": {
      "text/plain": [
       "\u001b[0;31mDocstring:\u001b[0m\n",
       "max(iterable, *[, default=obj, key=func]) -> value\n",
       "max(arg1, arg2, *args, *[, key=func]) -> value\n",
       "\n",
       "With a single iterable argument, return its biggest item. The\n",
       "default keyword-only argument specifies an object to return if\n",
       "the provided iterable is empty.\n",
       "With two or more arguments, return the largest argument.\n",
       "\u001b[0;31mType:\u001b[0m      builtin_function_or_method"
      ]
     },
     "metadata": {},
     "output_type": "display_data"
    }
   ],
   "source": [
    "max?"
   ]
  },
  {
   "cell_type": "markdown",
   "metadata": {
    "id": "3E9xth-NZGGs"
   },
   "source": [
    "![alt_text](S1-pics\\help.png)\n",
    "\n",
    "You can even use this notation for object methods and objects themselves.\n",
    "\n",
    "Let’s say you create this array:"
   ]
  },
  {
   "cell_type": "code",
   "execution_count": 180,
   "metadata": {
    "id": "T4IbQJVSZGGs"
   },
   "outputs": [
    {
     "data": {
      "text/plain": [
       "\u001b[0;31mType:\u001b[0m        ndarray\n",
       "\u001b[0;31mString form:\u001b[0m [1 2 3 4 5 6]\n",
       "\u001b[0;31mLength:\u001b[0m      6\n",
       "\u001b[0;31mFile:\u001b[0m        ~/.local/lib/python3.8/site-packages/numpy/__init__.py\n",
       "\u001b[0;31mDocstring:\u001b[0m  \n",
       "ndarray(shape, dtype=float, buffer=None, offset=0,\n",
       "        strides=None, order=None)\n",
       "\n",
       "An array object represents a multidimensional, homogeneous array\n",
       "of fixed-size items.  An associated data-type object describes the\n",
       "format of each element in the array (its byte-order, how many bytes it\n",
       "occupies in memory, whether it is an integer, a floating point number,\n",
       "or something else, etc.)\n",
       "\n",
       "Arrays should be constructed using `array`, `zeros` or `empty` (refer\n",
       "to the See Also section below).  The parameters given here refer to\n",
       "a low-level method (`ndarray(...)`) for instantiating an array.\n",
       "\n",
       "For more information, refer to the `numpy` module and examine the\n",
       "methods and attributes of an array.\n",
       "\n",
       "Parameters\n",
       "----------\n",
       "(for the __new__ method; see Notes below)\n",
       "\n",
       "shape : tuple of ints\n",
       "    Shape of created array.\n",
       "dtype : data-type, optional\n",
       "    Any object that can be interpreted as a numpy data type.\n",
       "buffer : object exposing buffer interface, optional\n",
       "    Used to fill the array with data.\n",
       "offset : int, optional\n",
       "    Offset of array data in buffer.\n",
       "strides : tuple of ints, optional\n",
       "    Strides of data in memory.\n",
       "order : {'C', 'F'}, optional\n",
       "    Row-major (C-style) or column-major (Fortran-style) order.\n",
       "\n",
       "Attributes\n",
       "----------\n",
       "T : ndarray\n",
       "    Transpose of the array.\n",
       "data : buffer\n",
       "    The array's elements, in memory.\n",
       "dtype : dtype object\n",
       "    Describes the format of the elements in the array.\n",
       "flags : dict\n",
       "    Dictionary containing information related to memory use, e.g.,\n",
       "    'C_CONTIGUOUS', 'OWNDATA', 'WRITEABLE', etc.\n",
       "flat : numpy.flatiter object\n",
       "    Flattened version of the array as an iterator.  The iterator\n",
       "    allows assignments, e.g., ``x.flat = 3`` (See `ndarray.flat` for\n",
       "    assignment examples; TODO).\n",
       "imag : ndarray\n",
       "    Imaginary part of the array.\n",
       "real : ndarray\n",
       "    Real part of the array.\n",
       "size : int\n",
       "    Number of elements in the array.\n",
       "itemsize : int\n",
       "    The memory use of each array element in bytes.\n",
       "nbytes : int\n",
       "    The total number of bytes required to store the array data,\n",
       "    i.e., ``itemsize * size``.\n",
       "ndim : int\n",
       "    The array's number of dimensions.\n",
       "shape : tuple of ints\n",
       "    Shape of the array.\n",
       "strides : tuple of ints\n",
       "    The step-size required to move from one element to the next in\n",
       "    memory. For example, a contiguous ``(3, 4)`` array of type\n",
       "    ``int16`` in C-order has strides ``(8, 2)``.  This implies that\n",
       "    to move from element to element in memory requires jumps of 2 bytes.\n",
       "    To move from row-to-row, one needs to jump 8 bytes at a time\n",
       "    (``2 * 4``).\n",
       "ctypes : ctypes object\n",
       "    Class containing properties of the array needed for interaction\n",
       "    with ctypes.\n",
       "base : ndarray\n",
       "    If the array is a view into another array, that array is its `base`\n",
       "    (unless that array is also a view).  The `base` array is where the\n",
       "    array data is actually stored.\n",
       "\n",
       "See Also\n",
       "--------\n",
       "array : Construct an array.\n",
       "zeros : Create an array, each element of which is zero.\n",
       "empty : Create an array, but leave its allocated memory unchanged (i.e.,\n",
       "        it contains \"garbage\").\n",
       "dtype : Create a data-type.\n",
       "numpy.typing.NDArray : An ndarray alias :term:`generic <generic type>`\n",
       "                       w.r.t. its `dtype.type <numpy.dtype.type>`.\n",
       "\n",
       "Notes\n",
       "-----\n",
       "There are two modes of creating an array using ``__new__``:\n",
       "\n",
       "1. If `buffer` is None, then only `shape`, `dtype`, and `order`\n",
       "   are used.\n",
       "2. If `buffer` is an object exposing the buffer interface, then\n",
       "   all keywords are interpreted.\n",
       "\n",
       "No ``__init__`` method is needed because the array is fully initialized\n",
       "after the ``__new__`` method.\n",
       "\n",
       "Examples\n",
       "--------\n",
       "These examples illustrate the low-level `ndarray` constructor.  Refer\n",
       "to the `See Also` section above for easier ways of constructing an\n",
       "ndarray.\n",
       "\n",
       "First mode, `buffer` is None:\n",
       "\n",
       ">>> np.ndarray(shape=(2,2), dtype=float, order='F')\n",
       "array([[0.0e+000, 0.0e+000], # random\n",
       "       [     nan, 2.5e-323]])\n",
       "\n",
       "Second mode:\n",
       "\n",
       ">>> np.ndarray((2,), buffer=np.array([1,2,3]),\n",
       "...            offset=np.int_().itemsize,\n",
       "...            dtype=int) # offset = 1*itemsize, i.e. skip first element\n",
       "array([2, 3])"
      ]
     },
     "metadata": {},
     "output_type": "display_data"
    }
   ],
   "source": [
    "import numpy as np\n",
    "a = np.array([1, 2, 3, 4, 5, 6])\n",
    "a?"
   ]
  },
  {
   "cell_type": "markdown",
   "metadata": {
    "id": "eBfcMNR2ZGGs"
   },
   "source": [
    "Then you can obtain a lot of useful information (first details about a itself, followed by the docstring of ndarray of which a is an instance):\n",
    "\n",
    "![alt_text](S1-pics\\h2.png)\n",
    "\n",
    "This also works for **functions** and other objects that you create.\n",
    "\n",
    ">Just remember to include a docstring with your function using a string literal (`\"\"\" \"\"\"` or `''' '''` around your documentation).\n",
    "\n",
    "For example, if you create this function:"
   ]
  },
  {
   "cell_type": "code",
   "execution_count": 181,
   "metadata": {
    "id": "c7iEUaW3ZGGs"
   },
   "outputs": [],
   "source": [
    "def double(a):\n",
    "   '''Return a * 2'''\n",
    "   return a * 2"
   ]
  },
  {
   "cell_type": "code",
   "execution_count": 182,
   "metadata": {
    "id": "otLBdtuBZGGt"
   },
   "outputs": [
    {
     "data": {
      "text/plain": [
       "\u001b[0;31mSignature:\u001b[0m \u001b[0mdouble\u001b[0m\u001b[0;34m(\u001b[0m\u001b[0ma\u001b[0m\u001b[0;34m)\u001b[0m\u001b[0;34m\u001b[0m\u001b[0;34m\u001b[0m\u001b[0m\n",
       "\u001b[0;31mDocstring:\u001b[0m Return a * 2\n",
       "\u001b[0;31mFile:\u001b[0m      /tmp/ipykernel_20331/3919353596.py\n",
       "\u001b[0;31mType:\u001b[0m      function"
      ]
     },
     "metadata": {},
     "output_type": "display_data"
    }
   ],
   "source": [
    "double?"
   ]
  },
  {
   "cell_type": "markdown",
   "metadata": {
    "id": "Zor40UnYZGGt"
   },
   "source": [
    "![alt_text](S1-pics\\h3.png)\n",
    "\n",
    "You can reach another level of information by reading the source code of the object you’re interested in. Using a double question mark (`??`) allows you to access the source code.\n",
    "\n",
    "For example:"
   ]
  },
  {
   "cell_type": "code",
   "execution_count": 183,
   "metadata": {
    "id": "-tPDvcAmZGGu"
   },
   "outputs": [
    {
     "data": {
      "text/plain": [
       "\u001b[0;31mSignature:\u001b[0m \u001b[0mdouble\u001b[0m\u001b[0;34m(\u001b[0m\u001b[0ma\u001b[0m\u001b[0;34m)\u001b[0m\u001b[0;34m\u001b[0m\u001b[0;34m\u001b[0m\u001b[0m\n",
       "\u001b[0;31mSource:\u001b[0m   \n",
       "\u001b[0;32mdef\u001b[0m \u001b[0mdouble\u001b[0m\u001b[0;34m(\u001b[0m\u001b[0ma\u001b[0m\u001b[0;34m)\u001b[0m\u001b[0;34m:\u001b[0m\u001b[0;34m\u001b[0m\n",
       "\u001b[0;34m\u001b[0m   \u001b[0;34m'''Return a * 2'''\u001b[0m\u001b[0;34m\u001b[0m\n",
       "\u001b[0;34m\u001b[0m   \u001b[0;32mreturn\u001b[0m \u001b[0ma\u001b[0m \u001b[0;34m*\u001b[0m \u001b[0;36m2\u001b[0m\u001b[0;34m\u001b[0m\u001b[0;34m\u001b[0m\u001b[0m\n",
       "\u001b[0;31mFile:\u001b[0m      /tmp/ipykernel_20331/3919353596.py\n",
       "\u001b[0;31mType:\u001b[0m      function"
      ]
     },
     "metadata": {},
     "output_type": "display_data"
    }
   ],
   "source": [
    "double??"
   ]
  },
  {
   "cell_type": "markdown",
   "metadata": {
    "id": "WM9GniInZGGu"
   },
   "source": [
    "![alt_text](S1-pics\\h4.png)\n",
    "\n",
    "If the object in question is compiled in a language other than Python, using `??` will return the same information as `?`.\n",
    "\n",
    "You’ll find this with a lot of built-in objects and types, for example: `len?` and `len??` returns the same info.\n",
    "\n",
    "***Why they have the same output?***\n",
    ">because they were compiled in a programming language other than Python."
   ]
  },
  {
   "cell_type": "markdown",
   "metadata": {
    "id": "KKrSq2XSZGGu"
   },
   "source": [
    "---\n",
    "# Section 11: How to save and load NumPy objects\n",
    "*This section covers `np.save`, `np.savez`, `np.savetxt`, `np.load`, `np.loadtxt`*\n",
    "\n",
    "---\n",
    "\n",
    "You will, at some point, want to save your arrays to disk and load them back without having to re-run the code. Fortunately, there are several ways to save and load objects with NumPy.\n",
    "\n",
    "- The `ndarray objects` can be saved to and loaded from the disk files with `loadtxt` and `savetxt` functions that handle normal **text files**,\n",
    "- `load` and `save` functions that handle NumPy binary files with a `.npy` **file extension**,\n",
    "- and a `savez` function that handles NumPy files with a `.npz` **file extension**.\n",
    "\n",
    ">The `.npy` and `.npz` files store `data`, `shape`, `dtype`, and ***other information required to reconstruct the ndarray in a way that allows the array to be correctly retrieved***, even when the file is on another machine with different architecture.\n",
    "\n",
    "- If you want to store a *single ndarray object*, store it as a `.npy file` using `np.save`.\n",
    "- If you want to store *more than one ndarray object in a single file*, save it as a `.npz file` using `np.savez`.\n",
    "- You can also save *several arrays into a single file* in **compressed npz format** with `savez_compressed`.\n",
    "\n",
    "It’s easy to save and load and array with `np.save()`. Just make sure to specify the array you want to save and a file name.\n",
    "\n",
    "**For example**, if you create this array:\n"
   ]
  },
  {
   "cell_type": "code",
   "execution_count": 184,
   "metadata": {
    "id": "nUF1KZNmZGG3"
   },
   "outputs": [],
   "source": [
    "a = np.array([1, 2, 3, 4, 5, 6])"
   ]
  },
  {
   "cell_type": "code",
   "execution_count": 185,
   "metadata": {
    "id": "G736r6KyZGG4"
   },
   "outputs": [],
   "source": [
    "# You can save it as “filename.npy” with:\n",
    "np.save('numpy ', a)"
   ]
  },
  {
   "cell_type": "code",
   "execution_count": 186,
   "metadata": {
    "id": "jKrgOvYfZGG4"
   },
   "outputs": [
    {
     "ename": "FileNotFoundError",
     "evalue": "[Errno 2] No such file or directory: 'numby.npy'",
     "output_type": "error",
     "traceback": [
      "\u001b[0;31m---------------------------------------------------------------------------\u001b[0m",
      "\u001b[0;31mFileNotFoundError\u001b[0m                         Traceback (most recent call last)",
      "Cell \u001b[0;32mIn[186], line 2\u001b[0m\n\u001b[1;32m      1\u001b[0m \u001b[38;5;66;03m# You can use np.load() to reconstruct your array.\u001b[39;00m\n\u001b[0;32m----> 2\u001b[0m b \u001b[38;5;241m=\u001b[39m \u001b[43mnp\u001b[49m\u001b[38;5;241;43m.\u001b[39;49m\u001b[43mload\u001b[49m\u001b[43m(\u001b[49m\u001b[38;5;124;43m'\u001b[39;49m\u001b[38;5;124;43mnumby.npy\u001b[39;49m\u001b[38;5;124;43m'\u001b[39;49m\u001b[43m)\u001b[49m\n",
      "File \u001b[0;32m~/.local/lib/python3.8/site-packages/numpy/lib/npyio.py:405\u001b[0m, in \u001b[0;36mload\u001b[0;34m(file, mmap_mode, allow_pickle, fix_imports, encoding, max_header_size)\u001b[0m\n\u001b[1;32m    403\u001b[0m     own_fid \u001b[38;5;241m=\u001b[39m \u001b[38;5;28;01mFalse\u001b[39;00m\n\u001b[1;32m    404\u001b[0m \u001b[38;5;28;01melse\u001b[39;00m:\n\u001b[0;32m--> 405\u001b[0m     fid \u001b[38;5;241m=\u001b[39m stack\u001b[38;5;241m.\u001b[39menter_context(\u001b[38;5;28;43mopen\u001b[39;49m\u001b[43m(\u001b[49m\u001b[43mos_fspath\u001b[49m\u001b[43m(\u001b[49m\u001b[43mfile\u001b[49m\u001b[43m)\u001b[49m\u001b[43m,\u001b[49m\u001b[43m \u001b[49m\u001b[38;5;124;43m\"\u001b[39;49m\u001b[38;5;124;43mrb\u001b[39;49m\u001b[38;5;124;43m\"\u001b[39;49m\u001b[43m)\u001b[49m)\n\u001b[1;32m    406\u001b[0m     own_fid \u001b[38;5;241m=\u001b[39m \u001b[38;5;28;01mTrue\u001b[39;00m\n\u001b[1;32m    408\u001b[0m \u001b[38;5;66;03m# Code to distinguish from NumPy binary files and pickles.\u001b[39;00m\n",
      "\u001b[0;31mFileNotFoundError\u001b[0m: [Errno 2] No such file or directory: 'numby.npy'"
     ]
    }
   ],
   "source": [
    "# You can use np.load() to reconstruct your array.\n",
    "b = np.load('numby.npy')"
   ]
  },
  {
   "cell_type": "code",
   "execution_count": 187,
   "metadata": {
    "colab": {
     "base_uri": "https://localhost:8080/"
    },
    "id": "FjquIK2UZGG5",
    "outputId": "0c388bcd-9804-4602-b9ad-5b56db24f27c"
   },
   "outputs": [
    {
     "name": "stdout",
     "output_type": "stream",
     "text": [
      "[0 1 2]\n"
     ]
    }
   ],
   "source": [
    "# If you want to check your array, you can run::\n",
    "print(b)"
   ]
  },
  {
   "cell_type": "markdown",
   "metadata": {
    "id": "KZfiumonZGG5"
   },
   "source": [
    "You can save a NumPy array as a **plain text file** like a *.csv* or *.txt* file with `np.savetxt`.\n",
    "\n",
    "**For example**, if you create this array:"
   ]
  },
  {
   "cell_type": "code",
   "execution_count": 188,
   "metadata": {
    "id": "4eW-5JAJZGG5"
   },
   "outputs": [],
   "source": [
    "csv_arr = np.array([1, 2, 3, 4, 5, 6, 7, 8])"
   ]
  },
  {
   "cell_type": "code",
   "execution_count": 189,
   "metadata": {
    "id": "yUl4chh8ZGG6"
   },
   "outputs": [],
   "source": [
    "# You can easily save it as a .csv file with the name “new_file.csv” like this:\n",
    "np.savetxt('new_file.csv', csv_arr)"
   ]
  },
  {
   "cell_type": "code",
   "execution_count": 190,
   "metadata": {
    "colab": {
     "base_uri": "https://localhost:8080/"
    },
    "id": "TfpY1fRYZGG6",
    "outputId": "d9e6e64c-6bb0-4dbc-8e39-8cc7a9a8eda5"
   },
   "outputs": [
    {
     "data": {
      "text/plain": [
       "array([1., 2., 3., 4., 5., 6., 7., 8.])"
      ]
     },
     "execution_count": 190,
     "metadata": {},
     "output_type": "execute_result"
    }
   ],
   "source": [
    "# You can quickly and easily load your saved text file using loadtxt():\n",
    "np.loadtxt('new_file.csv')"
   ]
  },
  {
   "cell_type": "markdown",
   "metadata": {
    "id": "ABmkD1kaZGG6"
   },
   "source": [
    "> The `savetxt()` and `loadtxt()` functions accept additional optional parameters such as *header*, *footer*, and *delimiter*.\n",
    "    \n",
    "While text files can be easier for sharing, `.npy` and `.npz` files are smaller and faster to read.\n",
    "\n",
    ">If you need more sophisticated handling of your text file (for example, if you need to work with lines that contain missing values), you will want to use the `genfromtxt` function.\n",
    "\n",
    "Learn more about [input and output routines here](https://numpy.org/doc/stable/reference/routines.io.html#routines-io).\n",
    "\n"
   ]
  },
  {
   "cell_type": "markdown",
   "metadata": {
    "id": "7X8e6NLuZGG7"
   },
   "source": [
    "# Thank you for your time and efforts!\n",
    "### *By:Heba-T-ALLAH Raslan*"
   ]
  }
 ],
 "metadata": {
  "colab": {
   "provenance": []
  },
  "kernelspec": {
   "display_name": "Python 3 (ipykernel)",
   "language": "python",
   "name": "python3"
  },
  "language_info": {
   "codemirror_mode": {
    "name": "ipython",
    "version": 3
   },
   "file_extension": ".py",
   "mimetype": "text/x-python",
   "name": "python",
   "nbconvert_exporter": "python",
   "pygments_lexer": "ipython3",
   "version": "3.8.10"
  }
 },
 "nbformat": 4,
 "nbformat_minor": 4
}
